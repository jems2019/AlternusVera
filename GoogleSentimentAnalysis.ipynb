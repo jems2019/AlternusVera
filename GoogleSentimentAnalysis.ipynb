{
  "nbformat": 4,
  "nbformat_minor": 0,
  "metadata": {
    "colab": {
      "name": "GoogleSentimentAnalysis.ipynb",
      "version": "0.3.2",
      "provenance": [],
      "collapsed_sections": []
    },
    "kernelspec": {
      "name": "python3",
      "display_name": "Python 3"
    },
    "accelerator": "TPU"
  },
  "cells": [
    {
      "cell_type": "code",
      "metadata": {
        "id": "ruNRmfbRQGuC",
        "colab_type": "code",
        "outputId": "f3174443-4a56-4fc4-d222-8783d1f376c1",
        "colab": {
          "resources": {
            "http://localhost:8080/nbextensions/google.colab/files.js": {
              "data": "Ly8gQ29weXJpZ2h0IDIwMTcgR29vZ2xlIExMQwovLwovLyBMaWNlbnNlZCB1bmRlciB0aGUgQXBhY2hlIExpY2Vuc2UsIFZlcnNpb24gMi4wICh0aGUgIkxpY2Vuc2UiKTsKLy8geW91IG1heSBub3QgdXNlIHRoaXMgZmlsZSBleGNlcHQgaW4gY29tcGxpYW5jZSB3aXRoIHRoZSBMaWNlbnNlLgovLyBZb3UgbWF5IG9idGFpbiBhIGNvcHkgb2YgdGhlIExpY2Vuc2UgYXQKLy8KLy8gICAgICBodHRwOi8vd3d3LmFwYWNoZS5vcmcvbGljZW5zZXMvTElDRU5TRS0yLjAKLy8KLy8gVW5sZXNzIHJlcXVpcmVkIGJ5IGFwcGxpY2FibGUgbGF3IG9yIGFncmVlZCB0byBpbiB3cml0aW5nLCBzb2Z0d2FyZQovLyBkaXN0cmlidXRlZCB1bmRlciB0aGUgTGljZW5zZSBpcyBkaXN0cmlidXRlZCBvbiBhbiAiQVMgSVMiIEJBU0lTLAovLyBXSVRIT1VUIFdBUlJBTlRJRVMgT1IgQ09ORElUSU9OUyBPRiBBTlkgS0lORCwgZWl0aGVyIGV4cHJlc3Mgb3IgaW1wbGllZC4KLy8gU2VlIHRoZSBMaWNlbnNlIGZvciB0aGUgc3BlY2lmaWMgbGFuZ3VhZ2UgZ292ZXJuaW5nIHBlcm1pc3Npb25zIGFuZAovLyBsaW1pdGF0aW9ucyB1bmRlciB0aGUgTGljZW5zZS4KCi8qKgogKiBAZmlsZW92ZXJ2aWV3IEhlbHBlcnMgZm9yIGdvb2dsZS5jb2xhYiBQeXRob24gbW9kdWxlLgogKi8KKGZ1bmN0aW9uKHNjb3BlKSB7CmZ1bmN0aW9uIHNwYW4odGV4dCwgc3R5bGVBdHRyaWJ1dGVzID0ge30pIHsKICBjb25zdCBlbGVtZW50ID0gZG9jdW1lbnQuY3JlYXRlRWxlbWVudCgnc3BhbicpOwogIGVsZW1lbnQudGV4dENvbnRlbnQgPSB0ZXh0OwogIGZvciAoY29uc3Qga2V5IG9mIE9iamVjdC5rZXlzKHN0eWxlQXR0cmlidXRlcykpIHsKICAgIGVsZW1lbnQuc3R5bGVba2V5XSA9IHN0eWxlQXR0cmlidXRlc1trZXldOwogIH0KICByZXR1cm4gZWxlbWVudDsKfQoKLy8gTWF4IG51bWJlciBvZiBieXRlcyB3aGljaCB3aWxsIGJlIHVwbG9hZGVkIGF0IGEgdGltZS4KY29uc3QgTUFYX1BBWUxPQURfU0laRSA9IDEwMCAqIDEwMjQ7Ci8vIE1heCBhbW91bnQgb2YgdGltZSB0byBibG9jayB3YWl0aW5nIGZvciB0aGUgdXNlci4KY29uc3QgRklMRV9DSEFOR0VfVElNRU9VVF9NUyA9IDMwICogMTAwMDsKCmZ1bmN0aW9uIF91cGxvYWRGaWxlcyhpbnB1dElkLCBvdXRwdXRJZCkgewogIGNvbnN0IHN0ZXBzID0gdXBsb2FkRmlsZXNTdGVwKGlucHV0SWQsIG91dHB1dElkKTsKICBjb25zdCBvdXRwdXRFbGVtZW50ID0gZG9jdW1lbnQuZ2V0RWxlbWVudEJ5SWQob3V0cHV0SWQpOwogIC8vIENhY2hlIHN0ZXBzIG9uIHRoZSBvdXRwdXRFbGVtZW50IHRvIG1ha2UgaXQgYXZhaWxhYmxlIGZvciB0aGUgbmV4dCBjYWxsCiAgLy8gdG8gdXBsb2FkRmlsZXNDb250aW51ZSBmcm9tIFB5dGhvbi4KICBvdXRwdXRFbGVtZW50LnN0ZXBzID0gc3RlcHM7CgogIHJldHVybiBfdXBsb2FkRmlsZXNDb250aW51ZShvdXRwdXRJZCk7Cn0KCi8vIFRoaXMgaXMgcm91Z2hseSBhbiBhc3luYyBnZW5lcmF0b3IgKG5vdCBzdXBwb3J0ZWQgaW4gdGhlIGJyb3dzZXIgeWV0KSwKLy8gd2hlcmUgdGhlcmUgYXJlIG11bHRpcGxlIGFzeW5jaHJvbm91cyBzdGVwcyBhbmQgdGhlIFB5dGhvbiBzaWRlIGlzIGdvaW5nCi8vIHRvIHBvbGwgZm9yIGNvbXBsZXRpb24gb2YgZWFjaCBzdGVwLgovLyBUaGlzIHVzZXMgYSBQcm9taXNlIHRvIGJsb2NrIHRoZSBweXRob24gc2lkZSBvbiBjb21wbGV0aW9uIG9mIGVhY2ggc3RlcCwKLy8gdGhlbiBwYXNzZXMgdGhlIHJlc3VsdCBvZiB0aGUgcHJldmlvdXMgc3RlcCBhcyB0aGUgaW5wdXQgdG8gdGhlIG5leHQgc3RlcC4KZnVuY3Rpb24gX3VwbG9hZEZpbGVzQ29udGludWUob3V0cHV0SWQpIHsKICBjb25zdCBvdXRwdXRFbGVtZW50ID0gZG9jdW1lbnQuZ2V0RWxlbWVudEJ5SWQob3V0cHV0SWQpOwogIGNvbnN0IHN0ZXBzID0gb3V0cHV0RWxlbWVudC5zdGVwczsKCiAgY29uc3QgbmV4dCA9IHN0ZXBzLm5leHQob3V0cHV0RWxlbWVudC5sYXN0UHJvbWlzZVZhbHVlKTsKICByZXR1cm4gUHJvbWlzZS5yZXNvbHZlKG5leHQudmFsdWUucHJvbWlzZSkudGhlbigodmFsdWUpID0+IHsKICAgIC8vIENhY2hlIHRoZSBsYXN0IHByb21pc2UgdmFsdWUgdG8gbWFrZSBpdCBhdmFpbGFibGUgdG8gdGhlIG5leHQKICAgIC8vIHN0ZXAgb2YgdGhlIGdlbmVyYXRvci4KICAgIG91dHB1dEVsZW1lbnQubGFzdFByb21pc2VWYWx1ZSA9IHZhbHVlOwogICAgcmV0dXJuIG5leHQudmFsdWUucmVzcG9uc2U7CiAgfSk7Cn0KCi8qKgogKiBHZW5lcmF0b3IgZnVuY3Rpb24gd2hpY2ggaXMgY2FsbGVkIGJldHdlZW4gZWFjaCBhc3luYyBzdGVwIG9mIHRoZSB1cGxvYWQKICogcHJvY2Vzcy4KICogQHBhcmFtIHtzdHJpbmd9IGlucHV0SWQgRWxlbWVudCBJRCBvZiB0aGUgaW5wdXQgZmlsZSBwaWNrZXIgZWxlbWVudC4KICogQHBhcmFtIHtzdHJpbmd9IG91dHB1dElkIEVsZW1lbnQgSUQgb2YgdGhlIG91dHB1dCBkaXNwbGF5LgogKiBAcmV0dXJuIHshSXRlcmFibGU8IU9iamVjdD59IEl0ZXJhYmxlIG9mIG5leHQgc3RlcHMuCiAqLwpmdW5jdGlvbiogdXBsb2FkRmlsZXNTdGVwKGlucHV0SWQsIG91dHB1dElkKSB7CiAgY29uc3QgaW5wdXRFbGVtZW50ID0gZG9jdW1lbnQuZ2V0RWxlbWVudEJ5SWQoaW5wdXRJZCk7CiAgaW5wdXRFbGVtZW50LmRpc2FibGVkID0gZmFsc2U7CgogIGNvbnN0IG91dHB1dEVsZW1lbnQgPSBkb2N1bWVudC5nZXRFbGVtZW50QnlJZChvdXRwdXRJZCk7CiAgb3V0cHV0RWxlbWVudC5pbm5lckhUTUwgPSAnJzsKCiAgY29uc3QgcGlja2VkUHJvbWlzZSA9IG5ldyBQcm9taXNlKChyZXNvbHZlKSA9PiB7CiAgICBpbnB1dEVsZW1lbnQuYWRkRXZlbnRMaXN0ZW5lcignY2hhbmdlJywgKGUpID0+IHsKICAgICAgcmVzb2x2ZShlLnRhcmdldC5maWxlcyk7CiAgICB9KTsKICB9KTsKCiAgY29uc3QgY2FuY2VsID0gZG9jdW1lbnQuY3JlYXRlRWxlbWVudCgnYnV0dG9uJyk7CiAgaW5wdXRFbGVtZW50LnBhcmVudEVsZW1lbnQuYXBwZW5kQ2hpbGQoY2FuY2VsKTsKICBjYW5jZWwudGV4dENvbnRlbnQgPSAnQ2FuY2VsIHVwbG9hZCc7CiAgY29uc3QgY2FuY2VsUHJvbWlzZSA9IG5ldyBQcm9taXNlKChyZXNvbHZlKSA9PiB7CiAgICBjYW5jZWwub25jbGljayA9ICgpID0+IHsKICAgICAgcmVzb2x2ZShudWxsKTsKICAgIH07CiAgfSk7CgogIC8vIENhbmNlbCB1cGxvYWQgaWYgdXNlciBoYXNuJ3QgcGlja2VkIGFueXRoaW5nIGluIHRpbWVvdXQuCiAgY29uc3QgdGltZW91dFByb21pc2UgPSBuZXcgUHJvbWlzZSgocmVzb2x2ZSkgPT4gewogICAgc2V0VGltZW91dCgoKSA9PiB7CiAgICAgIHJlc29sdmUobnVsbCk7CiAgICB9LCBGSUxFX0NIQU5HRV9USU1FT1VUX01TKTsKICB9KTsKCiAgLy8gV2FpdCBmb3IgdGhlIHVzZXIgdG8gcGljayB0aGUgZmlsZXMuCiAgY29uc3QgZmlsZXMgPSB5aWVsZCB7CiAgICBwcm9taXNlOiBQcm9taXNlLnJhY2UoW3BpY2tlZFByb21pc2UsIHRpbWVvdXRQcm9taXNlLCBjYW5jZWxQcm9taXNlXSksCiAgICByZXNwb25zZTogewogICAgICBhY3Rpb246ICdzdGFydGluZycsCiAgICB9CiAgfTsKCiAgaWYgKCFmaWxlcykgewogICAgcmV0dXJuIHsKICAgICAgcmVzcG9uc2U6IHsKICAgICAgICBhY3Rpb246ICdjb21wbGV0ZScsCiAgICAgIH0KICAgIH07CiAgfQoKICBjYW5jZWwucmVtb3ZlKCk7CgogIC8vIERpc2FibGUgdGhlIGlucHV0IGVsZW1lbnQgc2luY2UgZnVydGhlciBwaWNrcyBhcmUgbm90IGFsbG93ZWQuCiAgaW5wdXRFbGVtZW50LmRpc2FibGVkID0gdHJ1ZTsKCiAgZm9yIChjb25zdCBmaWxlIG9mIGZpbGVzKSB7CiAgICBjb25zdCBsaSA9IGRvY3VtZW50LmNyZWF0ZUVsZW1lbnQoJ2xpJyk7CiAgICBsaS5hcHBlbmQoc3BhbihmaWxlLm5hbWUsIHtmb250V2VpZ2h0OiAnYm9sZCd9KSk7CiAgICBsaS5hcHBlbmQoc3BhbigKICAgICAgICBgKCR7ZmlsZS50eXBlIHx8ICduL2EnfSkgLSAke2ZpbGUuc2l6ZX0gYnl0ZXMsIGAgKwogICAgICAgIGBsYXN0IG1vZGlmaWVkOiAkewogICAgICAgICAgICBmaWxlLmxhc3RNb2RpZmllZERhdGUgPyBmaWxlLmxhc3RNb2RpZmllZERhdGUudG9Mb2NhbGVEYXRlU3RyaW5nKCkgOgogICAgICAgICAgICAgICAgICAgICAgICAgICAgICAgICAgICAnbi9hJ30gLSBgKSk7CiAgICBjb25zdCBwZXJjZW50ID0gc3BhbignMCUgZG9uZScpOwogICAgbGkuYXBwZW5kQ2hpbGQocGVyY2VudCk7CgogICAgb3V0cHV0RWxlbWVudC5hcHBlbmRDaGlsZChsaSk7CgogICAgY29uc3QgZmlsZURhdGFQcm9taXNlID0gbmV3IFByb21pc2UoKHJlc29sdmUpID0+IHsKICAgICAgY29uc3QgcmVhZGVyID0gbmV3IEZpbGVSZWFkZXIoKTsKICAgICAgcmVhZGVyLm9ubG9hZCA9IChlKSA9PiB7CiAgICAgICAgcmVzb2x2ZShlLnRhcmdldC5yZXN1bHQpOwogICAgICB9OwogICAgICByZWFkZXIucmVhZEFzQXJyYXlCdWZmZXIoZmlsZSk7CiAgICB9KTsKICAgIC8vIFdhaXQgZm9yIHRoZSBkYXRhIHRvIGJlIHJlYWR5LgogICAgbGV0IGZpbGVEYXRhID0geWllbGQgewogICAgICBwcm9taXNlOiBmaWxlRGF0YVByb21pc2UsCiAgICAgIHJlc3BvbnNlOiB7CiAgICAgICAgYWN0aW9uOiAnY29udGludWUnLAogICAgICB9CiAgICB9OwoKICAgIC8vIFVzZSBhIGNodW5rZWQgc2VuZGluZyB0byBhdm9pZCBtZXNzYWdlIHNpemUgbGltaXRzLiBTZWUgYi82MjExNTY2MC4KICAgIGxldCBwb3NpdGlvbiA9IDA7CiAgICB3aGlsZSAocG9zaXRpb24gPCBmaWxlRGF0YS5ieXRlTGVuZ3RoKSB7CiAgICAgIGNvbnN0IGxlbmd0aCA9IE1hdGgubWluKGZpbGVEYXRhLmJ5dGVMZW5ndGggLSBwb3NpdGlvbiwgTUFYX1BBWUxPQURfU0laRSk7CiAgICAgIGNvbnN0IGNodW5rID0gbmV3IFVpbnQ4QXJyYXkoZmlsZURhdGEsIHBvc2l0aW9uLCBsZW5ndGgpOwogICAgICBwb3NpdGlvbiArPSBsZW5ndGg7CgogICAgICBjb25zdCBiYXNlNjQgPSBidG9hKFN0cmluZy5mcm9tQ2hhckNvZGUuYXBwbHkobnVsbCwgY2h1bmspKTsKICAgICAgeWllbGQgewogICAgICAgIHJlc3BvbnNlOiB7CiAgICAgICAgICBhY3Rpb246ICdhcHBlbmQnLAogICAgICAgICAgZmlsZTogZmlsZS5uYW1lLAogICAgICAgICAgZGF0YTogYmFzZTY0LAogICAgICAgIH0sCiAgICAgIH07CiAgICAgIHBlcmNlbnQudGV4dENvbnRlbnQgPQogICAgICAgICAgYCR7TWF0aC5yb3VuZCgocG9zaXRpb24gLyBmaWxlRGF0YS5ieXRlTGVuZ3RoKSAqIDEwMCl9JSBkb25lYDsKICAgIH0KICB9CgogIC8vIEFsbCBkb25lLgogIHlpZWxkIHsKICAgIHJlc3BvbnNlOiB7CiAgICAgIGFjdGlvbjogJ2NvbXBsZXRlJywKICAgIH0KICB9Owp9CgpzY29wZS5nb29nbGUgPSBzY29wZS5nb29nbGUgfHwge307CnNjb3BlLmdvb2dsZS5jb2xhYiA9IHNjb3BlLmdvb2dsZS5jb2xhYiB8fCB7fTsKc2NvcGUuZ29vZ2xlLmNvbGFiLl9maWxlcyA9IHsKICBfdXBsb2FkRmlsZXMsCiAgX3VwbG9hZEZpbGVzQ29udGludWUsCn07Cn0pKHNlbGYpOwo=",
              "ok": true,
              "headers": [
                [
                  "content-type",
                  "application/javascript"
                ]
              ],
              "status": 200,
              "status_text": ""
            }
          },
          "base_uri": "https://localhost:8080/",
          "height": 58
        }
      },
      "source": [
        "import pandas as pd\n",
        "import numpy as np\n",
        "import csv\n",
        "\n",
        "from google.cloud import language\n",
        "from google.cloud.language import enums\n",
        "from google.cloud.language import types\n",
        "from google.colab import files\n",
        "from IPython.display import clear_output\n",
        "\n",
        "\n",
        "import time\n",
        "\n",
        "uploaded = files.upload()"
      ],
      "execution_count": 0,
      "outputs": [
        {
          "output_type": "display_data",
          "data": {
            "text/html": [
              "\n",
              "     <input type=\"file\" id=\"files-666338f8-32cb-4a64-b37e-fb9a9a3bdbfd\" name=\"files[]\" multiple disabled />\n",
              "     <output id=\"result-666338f8-32cb-4a64-b37e-fb9a9a3bdbfd\">\n",
              "      Upload widget is only available when the cell has been executed in the\n",
              "      current browser session. Please rerun this cell to enable.\n",
              "      </output>\n",
              "      <script src=\"/nbextensions/google.colab/files.js\"></script> "
            ],
            "text/plain": [
              "<IPython.core.display.HTML object>"
            ]
          },
          "metadata": {
            "tags": []
          }
        }
      ]
    },
    {
      "cell_type": "code",
      "metadata": {
        "id": "mVtmWyz6SdsM",
        "colab_type": "code",
        "colab": {}
      },
      "source": [
        "#!export GOOGLE_APPLICATION_CREDENTIALS=\"content/googlekey.json\"\n",
        "import os\n",
        "os.environ['GOOGLE_APPLICATION_CREDENTIALS'] = \"../content/googlekey.json\""
      ],
      "execution_count": 0,
      "outputs": []
    },
    {
      "cell_type": "code",
      "metadata": {
        "id": "Kl1Q-yrjLjt7",
        "colab_type": "code",
        "outputId": "a1b1cda0-5089-4482-cac5-35587331add6",
        "colab": {
          "base_uri": "https://localhost:8080/",
          "height": 34
        }
      },
      "source": [
        "\n",
        "train_news = pd.read_csv('https://raw.githubusercontent.com/jems2019/AlternusVera/master/input_data/train_processed.csv')\n",
        "\n",
        "\n",
        "def get_sentiment_score(doc):\n",
        "    client = language.LanguageServiceClient()\n",
        "    #client = language.LanguageServiceClient.from_service_account_json(\"content/googlekey.json\")\n",
        "\n",
        "    document = types.Document(content=doc,type=enums.Document.Type.PLAIN_TEXT,language='en')\n",
        "    sentiment_score = client.analyze_sentiment(document=document).document_sentiment.score\n",
        "    return sentiment_score\n",
        "\n",
        "def convert_sentiment_to_polarity(sent):\n",
        "    if(sent < -.25):\n",
        "        return -1\n",
        "    elif(sent > .25):\n",
        "        return 1\n",
        "    else:\n",
        "        return 0\n",
        "\n",
        "    \n",
        "get_sentiment_score(train_news.loc[1,'headline_text'])"
      ],
      "execution_count": 0,
      "outputs": [
        {
          "output_type": "execute_result",
          "data": {
            "text/plain": [
              "-0.20000000298023224"
            ]
          },
          "metadata": {
            "tags": []
          },
          "execution_count": 4
        }
      ]
    },
    {
      "cell_type": "code",
      "metadata": {
        "id": "7rMjiZbkPyJl",
        "colab_type": "code",
        "outputId": "a7caa66a-4d33-4d09-e5e2-dc00adc1b044",
        "colab": {
          "base_uri": "https://localhost:8080/",
          "height": 1581
        }
      },
      "source": [
        "#print(train_news.shape)\n",
        "#print(test_news.shape)\n",
        "dataTrain = pd.read_csv('https://raw.githubusercontent.com/jems2019/AlternusVera/master/input_data/train_processed.csv')\n",
        "dataTest = pd.read_csv('https://raw.githubusercontent.com/jems2019/AlternusVera/master/input_data/test_processed.csv')\n",
        "\n",
        "dataTrain['sentiment'] = 0\n",
        "dataTest['sentiment'] = 0\n",
        "\n",
        "dataTrain['polarity'] = 0\n",
        "dataTest['polarity'] = 0\n",
        "\n",
        "start = time.time()\n",
        "for index, row in dataTrain.iterrows():\n",
        "    sentiment = get_sentiment_score(row['headline_text'])\n",
        "    if(index%50 == 0):\n",
        "        clear_output()\n",
        "        print('done ' + str(index) + '/' + str(dataTrain.shape[0]))\n",
        "        print('Time elapsed - ' + str(time.time()-start) + ' sec')\n",
        "    dataTrain.loc[index,'sentiment'] = sentiment\n",
        "    dataTrain.loc[index, 'polarity'] = convert_sentiment_to_polarity(sentiment)\n",
        "\n",
        "print('done train')\n",
        "dataTrain.to_csv('my_train_with_raw.csv')\n",
        "print(dataTrain.head())\n",
        "print(dataTest.head())\n",
        "#my_train = my_data.loc[:,['clean']]\n",
        "\n",
        "#print(train_news.loc[1,'clean'])\n",
        "#convert_sentiment_to_polarity(get_sentiment_score(my_data.loc[0,'clean']))"
      ],
      "execution_count": 0,
      "outputs": [
        {
          "output_type": "stream",
          "text": [
            "done 10250/10263\n",
            "Time elapsed - 1829.7728424072266 sec\n",
            "done train\n",
            "   Unnamed: 0      jsonid        label  \\\n",
            "0           0   2635.json        false   \n",
            "1           1  10540.json    half-true   \n",
            "2           2    324.json  mostly-true   \n",
            "3           3   1123.json        false   \n",
            "4           4   9028.json    half-true   \n",
            "\n",
            "                                       headline_text  \\\n",
            "0  Says the Annies List political group supports ...   \n",
            "1  When did the decline of coal start? It started...   \n",
            "2  Hillary Clinton agrees with John McCain \"by vo...   \n",
            "3  Health care reform legislation is likely to ma...   \n",
            "4  The economic turnaround started at the end of ...   \n",
            "\n",
            "                              subject         speaker       speakerjobtitle  \\\n",
            "0                            abortion    dwayne-bohac  State representative   \n",
            "1  energy,history,job-accomplishments  scott-surovell        State delegate   \n",
            "2                      foreign-policy    barack-obama             President   \n",
            "3                         health-care    blog-posting                     0   \n",
            "4                        economy,jobs   charlie-crist                     0   \n",
            "\n",
            "  stateinfo partyaffiliation  barelytruecounts  falsecounts  halftruecounts  \\\n",
            "0     Texas       republican               0.0          1.0             0.0   \n",
            "1  Virginia         democrat               0.0          0.0             1.0   \n",
            "2  Illinois         democrat              70.0         71.0           160.0   \n",
            "3         0             none               7.0         19.0             3.0   \n",
            "4   Florida         democrat              15.0          9.0            20.0   \n",
            "\n",
            "   mostlytrueocunts  pantsonfirecounts              context  \\\n",
            "0               0.0                0.0             a mailer   \n",
            "1               1.0                0.0      a floor speech.   \n",
            "2             163.0                9.0               Denver   \n",
            "3               5.0               44.0       a news release   \n",
            "4              19.0                2.0  an interview on CNN   \n",
            "\n",
            "                                               clean  sentiment  polarity  \n",
            "0  say anni list polit group support third trimme...       -0.7        -1  \n",
            "1  decline coal start start natur gas took start ...       -0.2         0  \n",
            "2  hillary clinton agre john mccain vote give geo...        0.0         0  \n",
            "3  health care reform legis like mandat free sex ...        0.0         0  \n",
            "4                   econom turnaround start end term        0.1         0  \n",
            "   Unnamed: 0      jsonid       label  \\\n",
            "0           0  11972.json        true   \n",
            "1           1  11685.json       false   \n",
            "2           2  11096.json       false   \n",
            "3           3   5209.json   half-true   \n",
            "4           4   9524.json  pants-fire   \n",
            "\n",
            "                                       headline_text  \\\n",
            "0  Building a wall on the U.S.-Mexico border will...   \n",
            "1  Wisconsin is on pace to double the number of l...   \n",
            "2  Says John McCain has done nothing to help the ...   \n",
            "3  Suzanne Bonamici supports a plan that will cut...   \n",
            "4  When asked by a reporter whether hes at the ce...   \n",
            "\n",
            "                                             subject  \\\n",
            "0                                        immigration   \n",
            "1                                               jobs   \n",
            "2                    military,veterans,voting-record   \n",
            "3  medicare,message-machine-2012,campaign-adverti...   \n",
            "4  campaign-finance,legal-issues,campaign-adverti...   \n",
            "\n",
            "                            speaker       speakerjobtitle  stateinfo  \\\n",
            "0                        rick-perry              Governor      Texas   \n",
            "1                 katrina-shankland  State representative  Wisconsin   \n",
            "2                      donald-trump       President-Elect   New York   \n",
            "3                     rob-cornilles            consultant     Oregon   \n",
            "4  state-democratic-party-wisconsin                     0  Wisconsin   \n",
            "\n",
            "  partyaffiliation  barelytruecounts  falsecounts  halftruecounts  \\\n",
            "0       republican              30.0         30.0            42.0   \n",
            "1         democrat               2.0          1.0             0.0   \n",
            "2       republican              63.0        114.0            51.0   \n",
            "3       republican               1.0          1.0             3.0   \n",
            "4         democrat               5.0          7.0             2.0   \n",
            "\n",
            "   mostlytrueocunts  pantsonfirecounts                       context  \\\n",
            "0              23.0               18.0               Radio interview   \n",
            "1               0.0                0.0             a news conference   \n",
            "2              37.0               61.0  comments on ABC's This Week.   \n",
            "3               1.0                1.0                  a radio show   \n",
            "4               2.0                7.0                   a web video   \n",
            "\n",
            "                                               clean  sentiment  polarity  \n",
            "0         build wall u mexico border take liter year          0         0  \n",
            "1            wisconsin pace doubl number layoff year          0         0  \n",
            "2                 say john mccain done noth help vet          0         0  \n",
            "3  suzanne bonamici support plan cut choice medic...          0         0  \n",
            "4  ask report whether he center crimini scheme vi...          0         0  \n"
          ],
          "name": "stdout"
        }
      ]
    },
    {
      "cell_type": "code",
      "metadata": {
        "id": "54w5ngwHdaBl",
        "colab_type": "code",
        "outputId": "e34fef15-dad1-442a-a1e7-26cb50fbb9fa",
        "colab": {
          "base_uri": "https://localhost:8080/",
          "height": 68
        }
      },
      "source": [
        "start = time.time()\n",
        "for index, row in dataTest.iterrows():\n",
        "    sentiment = get_sentiment_score(row['headline_text'])\n",
        "    if(index%50 == 0):\n",
        "        clear_output()\n",
        "        print('done - ' + str(index) + '/' + str(dataTest.shape[0]))\n",
        "        print('Time elapsed - ' + str(time.time()-start) + ' sec')\n",
        "    dataTest.loc[index,'sentiment'] = sentiment\n",
        "    dataTest.loc[index, 'polarity'] = convert_sentiment_to_polarity(sentiment)\n",
        "    \n",
        "print('done test')\n",
        "dataTest.to_csv('my_test_with_raw.csv') \n"
      ],
      "execution_count": 0,
      "outputs": [
        {
          "output_type": "stream",
          "text": [
            "done - 1250/1289\n",
            "Time elapsed - 211.56073331832886 sec\n",
            "done test\n"
          ],
          "name": "stdout"
        }
      ]
    },
    {
      "cell_type": "code",
      "metadata": {
        "id": "rxTpQmnndGUJ",
        "colab_type": "code",
        "colab": {}
      },
      "source": [
        ""
      ],
      "execution_count": 0,
      "outputs": []
    }
  ]
}