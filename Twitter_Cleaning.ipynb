{
  "nbformat": 4,
  "nbformat_minor": 0,
  "metadata": {
    "colab": {
      "name": "Twitter Cleaning.ipynb",
      "version": "0.3.2",
      "provenance": [],
      "collapsed_sections": [],
      "toc_visible": true,
      "include_colab_link": true
    },
    "kernelspec": {
      "name": "python3",
      "display_name": "Python 3"
    },
    "accelerator": "TPU"
  },
  "cells": [
    {
      "cell_type": "markdown",
      "metadata": {
        "id": "view-in-github",
        "colab_type": "text"
      },
      "source": [
        "<a href=\"https://colab.research.google.com/github/jems2019/AlternusVera/blob/socialCredibility/Twitter_Cleaning.ipynb\" target=\"_parent\"><img src=\"https://colab.research.google.com/assets/colab-badge.svg\" alt=\"Open In Colab\"/></a>"
      ]
    },
    {
      "cell_type": "markdown",
      "metadata": {
        "id": "TWB6nNbQwmhJ",
        "colab_type": "text"
      },
      "source": [
        "\n",
        "# Setup and Library Imports\n"
      ]
    },
    {
      "cell_type": "code",
      "metadata": {
        "id": "mVu2ut6MvNOz",
        "colab_type": "code",
        "colab": {}
      },
      "source": [
        "import pandas as pd\n",
        "import numpy as np\n",
        "import csv\n",
        "import gensim\n",
        "from sklearn.feature_extraction.text import TfidfVectorizer\n",
        "from sklearn.feature_extraction.text import CountVectorizer\n",
        "from sklearn.model_selection import train_test_split\n",
        "from sklearn.linear_model import LogisticRegression\n",
        "from sklearn.metrics import classification_report\n",
        "from sklearn.ensemble import RandomForestClassifier\n",
        "from sklearn.preprocessing import StandardScaler\n",
        "from nltk.stem.wordnet import WordNetLemmatizer\n",
        "from sklearn.model_selection import GridSearchCV\n",
        "from sklearn.metrics import confusion_matrix\n",
        "from nltk.stem.porter import PorterStemmer\n",
        "from sklearn import metrics\n",
        "from sklearn.metrics import roc_auc_score\n",
        "from sklearn.metrics import roc_curve\n",
        "from sklearn.pipeline import Pipeline\n",
        "from nltk.corpus import stopwords\n",
        "from string import punctuation\n",
        "import seaborn as sns\n",
        "import pandas as pd\n",
        "import numpy as np\n",
        "import nltk\n",
        "import re\n",
        "import nltk\n",
        "import nltk.sentiment\n",
        "nltk.download('stopwords')\n",
        "nltk.download('averaged_perceptron_tagger')\n",
        "nltk.download('punkt')\n",
        "nltk.download('vader_lexicon')\n",
        "nltk.download('wordnet')\n",
        "import matplotlib.pyplot as plt\n",
        "from scipy import sparse\n",
        "\n",
        "#helper libraries to take metrics and split data\n",
        "from sklearn import metrics\n",
        "from sklearn.model_selection import train_test_split\n",
        "from sklearn.metrics import confusion_matrix\n",
        "from sklearn.metrics import precision_recall_fscore_support\n",
        "from sklearn.metrics import accuracy_score\n",
        "from sklearn.model_selection import cross_val_score, cross_val_predict\n",
        "from sklearn.utils.multiclass import unique_labels\n",
        "from scipy.spatial.distance import cdist\n"
      ],
      "execution_count": 0,
      "outputs": []
    },
    {
      "cell_type": "code",
      "metadata": {
        "id": "kWEqATmOvYNk",
        "colab_type": "code",
        "outputId": "817e41e1-ab81-4411-8a8f-a95e00dd8b69",
        "colab": {
          "base_uri": "https://localhost:8080/",
          "height": 34
        }
      },
      "source": [
        "from google.colab import drive\n",
        "drive.mount('/content/drive')\n"
      ],
      "execution_count": 2,
      "outputs": [
        {
          "output_type": "stream",
          "text": [
            "Drive already mounted at /content/drive; to attempt to forcibly remount, call drive.mount(\"/content/drive\", force_remount=True).\n"
          ],
          "name": "stdout"
        }
      ]
    },
    {
      "cell_type": "code",
      "metadata": {
        "id": "ytu9R4PUvbNK",
        "colab_type": "code",
        "colab": {}
      },
      "source": [
        "# Read the test, training and valid data from files\n",
        "# Header = 0 indicates that the first line of the file contains column names,\n",
        "# As there is no Header, create a column names for each column in the dataset\n",
        "# delimiter = \\t indicates that the fields are seperated by tabs, and \n",
        "\n",
        "\n",
        "test_filename = 'https://raw.githubusercontent.com/jems2019/AlternusVera/socialCredibility/input_data/dataset/test.tsv'\n",
        "train_filename = 'https://raw.githubusercontent.com/jems2019/AlternusVera/socialCredibility/input_data/dataset/train.tsv'\n",
        "valid_filename = 'https://raw.githubusercontent.com/jems2019/AlternusVera/socialCredibility/input_data/dataset/valid.tsv'\n",
        "\n",
        "colnames = ['jsonid', 'label', 'headline_text', 'subject', 'speaker', 'speakerjobtitle', 'stateinfo','partyaffiliation', 'barelytruecounts', 'falsecounts','halftruecounts','mostlytrueocunts','pantsonfirecounts','context']\n",
        "\n",
        "train_news = pd.read_csv(train_filename, sep='\\t', names = colnames, error_bad_lines=False)\n",
        "test_news = pd.read_csv(test_filename, sep='\\t', names = colnames, error_bad_lines=False)\n",
        "valid_news = pd.read_csv(valid_filename, sep='\\t', names = colnames, error_bad_lines=False)"
      ],
      "execution_count": 0,
      "outputs": []
    },
    {
      "cell_type": "code",
      "metadata": {
        "id": "xbYnZtvBwgRi",
        "colab_type": "code",
        "outputId": "609453bc-230e-40dd-f40d-d8a74a835ab2",
        "colab": {
          "base_uri": "https://localhost:8080/",
          "height": 216
        }
      },
      "source": [
        "# Display check the dimensions and the first 2 rows of the file.\n",
        "\n",
        "print('train dim:',train_news.shape, 'test dim:', test_news.shape)\n",
        "train_news.iloc[0:2]"
      ],
      "execution_count": 4,
      "outputs": [
        {
          "output_type": "stream",
          "text": [
            "train dim: (10240, 14) test dim: (1267, 14)\n"
          ],
          "name": "stdout"
        },
        {
          "output_type": "execute_result",
          "data": {
            "text/html": [
              "<div>\n",
              "<style scoped>\n",
              "    .dataframe tbody tr th:only-of-type {\n",
              "        vertical-align: middle;\n",
              "    }\n",
              "\n",
              "    .dataframe tbody tr th {\n",
              "        vertical-align: top;\n",
              "    }\n",
              "\n",
              "    .dataframe thead th {\n",
              "        text-align: right;\n",
              "    }\n",
              "</style>\n",
              "<table border=\"1\" class=\"dataframe\">\n",
              "  <thead>\n",
              "    <tr style=\"text-align: right;\">\n",
              "      <th></th>\n",
              "      <th>jsonid</th>\n",
              "      <th>label</th>\n",
              "      <th>headline_text</th>\n",
              "      <th>subject</th>\n",
              "      <th>speaker</th>\n",
              "      <th>speakerjobtitle</th>\n",
              "      <th>stateinfo</th>\n",
              "      <th>partyaffiliation</th>\n",
              "      <th>barelytruecounts</th>\n",
              "      <th>falsecounts</th>\n",
              "      <th>halftruecounts</th>\n",
              "      <th>mostlytrueocunts</th>\n",
              "      <th>pantsonfirecounts</th>\n",
              "      <th>context</th>\n",
              "    </tr>\n",
              "  </thead>\n",
              "  <tbody>\n",
              "    <tr>\n",
              "      <th>0</th>\n",
              "      <td>2635.json</td>\n",
              "      <td>false</td>\n",
              "      <td>Says the Annies List political group supports ...</td>\n",
              "      <td>abortion</td>\n",
              "      <td>dwayne-bohac</td>\n",
              "      <td>State representative</td>\n",
              "      <td>Texas</td>\n",
              "      <td>republican</td>\n",
              "      <td>0.0</td>\n",
              "      <td>1.0</td>\n",
              "      <td>0.0</td>\n",
              "      <td>0.0</td>\n",
              "      <td>0.0</td>\n",
              "      <td>a mailer</td>\n",
              "    </tr>\n",
              "    <tr>\n",
              "      <th>1</th>\n",
              "      <td>10540.json</td>\n",
              "      <td>half-true</td>\n",
              "      <td>When did the decline of coal start? It started...</td>\n",
              "      <td>energy,history,job-accomplishments</td>\n",
              "      <td>scott-surovell</td>\n",
              "      <td>State delegate</td>\n",
              "      <td>Virginia</td>\n",
              "      <td>democrat</td>\n",
              "      <td>0.0</td>\n",
              "      <td>0.0</td>\n",
              "      <td>1.0</td>\n",
              "      <td>1.0</td>\n",
              "      <td>0.0</td>\n",
              "      <td>a floor speech.</td>\n",
              "    </tr>\n",
              "  </tbody>\n",
              "</table>\n",
              "</div>"
            ],
            "text/plain": [
              "       jsonid      label  ... pantsonfirecounts          context\n",
              "0   2635.json      false  ...               0.0         a mailer\n",
              "1  10540.json  half-true  ...               0.0  a floor speech.\n",
              "\n",
              "[2 rows x 14 columns]"
            ]
          },
          "metadata": {
            "tags": []
          },
          "execution_count": 4
        }
      ]
    },
    {
      "cell_type": "markdown",
      "metadata": {
        "id": "NbJ1Of9Ewqq_",
        "colab_type": "text"
      },
      "source": [
        "# Setting up Twitter"
      ]
    },
    {
      "cell_type": "code",
      "metadata": {
        "id": "5X74AyAhwkfi",
        "colab_type": "code",
        "colab": {}
      },
      "source": [
        "# source: https://stackabuse.com/accessing-the-twitter-api-with-python/\n",
        "import json\n",
        "\n",
        "# Enter your keys/secrets as strings in the following fields\n",
        "credentials = {}  \n",
        "\n",
        "## CREDENTIALS 1 ##\n",
        "# credentials['CONSUMER_KEY'] = 'teXgchdxzL9bYnNDT4HctTfUm'\n",
        "# credentials['CONSUMER_SECRET'] = 'xkNp4LLXdk4vemHF15Bfd0Qn4H6GCHDqY3jTdwheDKdeG0F1kH'\n",
        "# credentials['ACCESS_TOKEN'] = '837565120435765248-EUarCt01HCRXkCuIHdrWunkJM96FVoD'\n",
        "# credentials['ACCESS_SECRET'] = 'w8jLAtFxYCeSSVVCTWfKIv9NNYhOvbOBCRyCY13EGKqcK'\n",
        "\n",
        "## CREDENTIALS 2 ##\n",
        "credentials['CONSUMER_KEY'] = 'BcPXZRwvvcWCCMKU0tZsN2EGY'\n",
        "credentials['CONSUMER_SECRET'] = 'QwGSx6nFRYigJsszAGpZemDcgls1kp4otA3mEmsczwVi7u5y5J'\n",
        "credentials['ACCESS_TOKEN'] = '1050660458254876672-xos6g6ejyVBVvOJVg88VarkIQ8PqF9'\n",
        "credentials['ACCESS_SECRET'] = '2EPXVunPLsG6CQBBMBXh6AbTpmdC9LWr5MjDIaga2N0xz'\n"
      ],
      "execution_count": 0,
      "outputs": []
    },
    {
      "cell_type": "code",
      "metadata": {
        "id": "jEQcZjR_wzS5",
        "colab_type": "code",
        "outputId": "c95e92b4-3e47-4d7e-c2cb-3e14b6641033",
        "colab": {
          "base_uri": "https://localhost:8080/",
          "height": 153
        }
      },
      "source": [
        "!pip install twython\n",
        "# Import the Twython class\n",
        "from twython import Twython  \n",
        "\n",
        "# Load credentials from json file\n",
        "with open(\"twitter_credentials.json\", \"r\") as file:  \n",
        "    creds = json.load(file)\n",
        "\n",
        "# Instantiate an object\n",
        "python_tweets = Twython(creds['CONSUMER_KEY'], creds['CONSUMER_SECRET'])\n",
        "\n",
        "# Create our query\n",
        "query = {'q': 'learn python',  \n",
        "        'result_type': 'popular',\n",
        "        'count': 10,\n",
        "        'lang': 'en',\n",
        "        }\n"
      ],
      "execution_count": 6,
      "outputs": [
        {
          "output_type": "stream",
          "text": [
            "Requirement already satisfied: twython in /usr/local/lib/python3.6/dist-packages (3.7.0)\n",
            "Requirement already satisfied: requests>=2.1.0 in /usr/local/lib/python3.6/dist-packages (from twython) (2.21.0)\n",
            "Requirement already satisfied: requests-oauthlib>=0.4.0 in /usr/local/lib/python3.6/dist-packages (from twython) (1.2.0)\n",
            "Requirement already satisfied: chardet<3.1.0,>=3.0.2 in /usr/local/lib/python3.6/dist-packages (from requests>=2.1.0->twython) (3.0.4)\n",
            "Requirement already satisfied: urllib3<1.25,>=1.21.1 in /usr/local/lib/python3.6/dist-packages (from requests>=2.1.0->twython) (1.24.3)\n",
            "Requirement already satisfied: idna<2.9,>=2.5 in /usr/local/lib/python3.6/dist-packages (from requests>=2.1.0->twython) (2.8)\n",
            "Requirement already satisfied: certifi>=2017.4.17 in /usr/local/lib/python3.6/dist-packages (from requests>=2.1.0->twython) (2019.3.9)\n",
            "Requirement already satisfied: oauthlib>=3.0.0 in /usr/local/lib/python3.6/dist-packages (from requests-oauthlib>=0.4.0->twython) (3.0.1)\n"
          ],
          "name": "stdout"
        }
      ]
    },
    {
      "cell_type": "code",
      "metadata": {
        "id": "Y_SlFQsbxKGt",
        "colab_type": "code",
        "outputId": "72bafc58-dd50-4c0a-8340-a03bfd4422f0",
        "colab": {
          "base_uri": "https://localhost:8080/",
          "height": 34
        }
      },
      "source": [
        "!pip install twitter\n",
        "from twitter import * \n",
        "\n",
        "# create Twitter API object\n",
        "twitter = Twitter(auth = OAuth(creds['ACCESS_TOKEN'],\n",
        "                  creds['ACCESS_SECRET'],\n",
        "                  creds['CONSUMER_KEY'],\n",
        "                  creds['CONSUMER_SECRET']))"
      ],
      "execution_count": 7,
      "outputs": [
        {
          "output_type": "stream",
          "text": [
            "Requirement already satisfied: twitter in /usr/local/lib/python3.6/dist-packages (1.18.0)\n"
          ],
          "name": "stdout"
        }
      ]
    },
    {
      "cell_type": "code",
      "metadata": {
        "id": "1mr_BfNKxS_y",
        "colab_type": "code",
        "outputId": "aa2fc886-09d3-45d0-cc1c-96d1af243879",
        "colab": {
          "base_uri": "https://localhost:8080/",
          "height": 187
        }
      },
      "source": [
        "!pip install tweepy\n",
        "import tweepy\n",
        "auth = tweepy.OAuthHandler(creds['CONSUMER_KEY'],\n",
        "                  creds['CONSUMER_SECRET'])\n",
        "auth.set_access_token(creds['ACCESS_TOKEN'],\n",
        "                  creds['ACCESS_SECRET'])\n",
        "api = tweepy.API(auth)"
      ],
      "execution_count": 8,
      "outputs": [
        {
          "output_type": "stream",
          "text": [
            "Requirement already satisfied: tweepy in /usr/local/lib/python3.6/dist-packages (3.6.0)\n",
            "Requirement already satisfied: requests-oauthlib>=0.7.0 in /usr/local/lib/python3.6/dist-packages (from tweepy) (1.2.0)\n",
            "Requirement already satisfied: requests>=2.11.1 in /usr/local/lib/python3.6/dist-packages (from tweepy) (2.21.0)\n",
            "Requirement already satisfied: six>=1.10.0 in /usr/local/lib/python3.6/dist-packages (from tweepy) (1.12.0)\n",
            "Requirement already satisfied: PySocks>=1.5.7 in /usr/local/lib/python3.6/dist-packages (from tweepy) (1.7.0)\n",
            "Requirement already satisfied: oauthlib>=3.0.0 in /usr/local/lib/python3.6/dist-packages (from requests-oauthlib>=0.7.0->tweepy) (3.0.1)\n",
            "Requirement already satisfied: certifi>=2017.4.17 in /usr/local/lib/python3.6/dist-packages (from requests>=2.11.1->tweepy) (2019.3.9)\n",
            "Requirement already satisfied: urllib3<1.25,>=1.21.1 in /usr/local/lib/python3.6/dist-packages (from requests>=2.11.1->tweepy) (1.24.3)\n",
            "Requirement already satisfied: chardet<3.1.0,>=3.0.2 in /usr/local/lib/python3.6/dist-packages (from requests>=2.11.1->tweepy) (3.0.4)\n",
            "Requirement already satisfied: idna<2.9,>=2.5 in /usr/local/lib/python3.6/dist-packages (from requests>=2.11.1->tweepy) (2.8)\n"
          ],
          "name": "stdout"
        }
      ]
    },
    {
      "cell_type": "code",
      "metadata": {
        "id": "HwnwNF6ow1mc",
        "colab_type": "code",
        "outputId": "132dcb64-9d70-4db8-fa76-3e0017972ca0",
        "colab": {
          "base_uri": "https://localhost:8080/",
          "height": 142
        }
      },
      "source": [
        "import pandas as pd\n",
        "\n",
        "# Search tweets\n",
        "dict_ = {'user': [], 'date': [], 'text': [], 'favorite_count': []}  \n",
        "for status in python_tweets.search(**query)['statuses']:  \n",
        "    dict_['user'].append(status['user']['screen_name'])\n",
        "    dict_['date'].append(status['created_at'])\n",
        "    dict_['text'].append(status['text'])\n",
        "    dict_['favorite_count'].append(status['favorite_count'])\n",
        "\n",
        "# Structure data in a pandas DataFrame for easier manipulation\n",
        "df = pd.DataFrame(dict_)  \n",
        "df.sort_values(by='favorite_count', inplace=True, ascending=False)  \n",
        "df.head(5)"
      ],
      "execution_count": 9,
      "outputs": [
        {
          "output_type": "execute_result",
          "data": {
            "text/html": [
              "<div>\n",
              "<style scoped>\n",
              "    .dataframe tbody tr th:only-of-type {\n",
              "        vertical-align: middle;\n",
              "    }\n",
              "\n",
              "    .dataframe tbody tr th {\n",
              "        vertical-align: top;\n",
              "    }\n",
              "\n",
              "    .dataframe thead th {\n",
              "        text-align: right;\n",
              "    }\n",
              "</style>\n",
              "<table border=\"1\" class=\"dataframe\">\n",
              "  <thead>\n",
              "    <tr style=\"text-align: right;\">\n",
              "      <th></th>\n",
              "      <th>user</th>\n",
              "      <th>date</th>\n",
              "      <th>text</th>\n",
              "      <th>favorite_count</th>\n",
              "    </tr>\n",
              "  </thead>\n",
              "  <tbody>\n",
              "    <tr>\n",
              "      <th>2</th>\n",
              "      <td>CiscoDevNet</td>\n",
              "      <td>Fri May 10 21:34:59 +0000 2019</td>\n",
              "      <td>Ansible is an amazing open source tool for get...</td>\n",
              "      <td>630</td>\n",
              "    </tr>\n",
              "    <tr>\n",
              "      <th>1</th>\n",
              "      <td>msdevUK</td>\n",
              "      <td>Fri May 17 16:38:01 +0000 2019</td>\n",
              "      <td>An introduction to machine learning with Pytho...</td>\n",
              "      <td>51</td>\n",
              "    </tr>\n",
              "    <tr>\n",
              "      <th>0</th>\n",
              "      <td>adafruit</td>\n",
              "      <td>Sun May 19 13:00:47 +0000 2019</td>\n",
              "      <td>#3Dprinted case for PyPortal! Build a portable...</td>\n",
              "      <td>12</td>\n",
              "    </tr>\n",
              "  </tbody>\n",
              "</table>\n",
              "</div>"
            ],
            "text/plain": [
              "          user  ... favorite_count\n",
              "2  CiscoDevNet  ...            630\n",
              "1      msdevUK  ...             51\n",
              "0     adafruit  ...             12\n",
              "\n",
              "[3 rows x 4 columns]"
            ]
          },
          "metadata": {
            "tags": []
          },
          "execution_count": 9
        }
      ]
    },
    {
      "cell_type": "code",
      "metadata": {
        "id": "ZGtHA3dixQKe",
        "colab_type": "code",
        "outputId": "ad585ce8-41c3-4386-ac32-ec6fbc4baffb",
        "colab": {
          "base_uri": "https://localhost:8080/",
          "height": 34
        }
      },
      "source": [
        "# perform user search\n",
        "results = twitter.users.search(q = '\"rob cornilles\"')\n",
        "\n",
        "# loop through each of the users, and print their details\n",
        "for user in results:\n",
        "    if user[\"name\"] == 'Rob Cornilles':\n",
        "        print(\"@%s (%s): %s\" % (user[\"screen_name\"], user[\"name\"], user[\"location\"]))"
      ],
      "execution_count": 10,
      "outputs": [
        {
          "output_type": "stream",
          "text": [
            "@RobCornilles (Rob Cornilles): Oregon's 1st CD\n"
          ],
          "name": "stdout"
        }
      ]
    },
    {
      "cell_type": "code",
      "metadata": {
        "id": "MKJRVIBYxZxd",
        "colab_type": "code",
        "outputId": "28be6275-d036-4b46-b5a6-6523b7f22dea",
        "colab": {
          "base_uri": "https://localhost:8080/",
          "height": 34
        }
      },
      "source": [
        "follower_count = api.get_user('RobCornilles').followers_count\n",
        "print(follower_count)"
      ],
      "execution_count": 11,
      "outputs": [
        {
          "output_type": "stream",
          "text": [
            "377\n"
          ],
          "name": "stdout"
        }
      ]
    },
    {
      "cell_type": "markdown",
      "metadata": {
        "id": "xZLmBD8zJI4c",
        "colab_type": "text"
      },
      "source": [
        "## Speaker Names"
      ]
    },
    {
      "cell_type": "code",
      "metadata": {
        "id": "5foltaKjxqJx",
        "colab_type": "code",
        "outputId": "82783c72-ba2b-416e-fe22-2eb20d45f901",
        "colab": {
          "base_uri": "https://localhost:8080/",
          "height": 111
        }
      },
      "source": [
        "# Get unique speaker names\n",
        "train_news_speaker_unique = pd.DataFrame(train_news.speaker.unique(), columns=['speaker'])\n",
        "\n",
        "\n",
        "# unique speakers in train dataset\n",
        "train_news_speaker_unique['speaker'] = train_news_speaker_unique['speaker'].str.replace(\"-\", \" \")\n",
        "train_news_speaker_unique.head(2)"
      ],
      "execution_count": 12,
      "outputs": [
        {
          "output_type": "execute_result",
          "data": {
            "text/html": [
              "<div>\n",
              "<style scoped>\n",
              "    .dataframe tbody tr th:only-of-type {\n",
              "        vertical-align: middle;\n",
              "    }\n",
              "\n",
              "    .dataframe tbody tr th {\n",
              "        vertical-align: top;\n",
              "    }\n",
              "\n",
              "    .dataframe thead th {\n",
              "        text-align: right;\n",
              "    }\n",
              "</style>\n",
              "<table border=\"1\" class=\"dataframe\">\n",
              "  <thead>\n",
              "    <tr style=\"text-align: right;\">\n",
              "      <th></th>\n",
              "      <th>speaker</th>\n",
              "    </tr>\n",
              "  </thead>\n",
              "  <tbody>\n",
              "    <tr>\n",
              "      <th>0</th>\n",
              "      <td>dwayne bohac</td>\n",
              "    </tr>\n",
              "    <tr>\n",
              "      <th>1</th>\n",
              "      <td>scott surovell</td>\n",
              "    </tr>\n",
              "  </tbody>\n",
              "</table>\n",
              "</div>"
            ],
            "text/plain": [
              "          speaker\n",
              "0    dwayne bohac\n",
              "1  scott surovell"
            ]
          },
          "metadata": {
            "tags": []
          },
          "execution_count": 12
        }
      ]
    },
    {
      "cell_type": "code",
      "metadata": {
        "id": "HkbYiW4KyLbX",
        "colab_type": "code",
        "outputId": "f49a4c6d-abd4-4155-a018-a9f67486f0f3",
        "colab": {
          "base_uri": "https://localhost:8080/",
          "height": 111
        }
      },
      "source": [
        "# Get unique speaker names\n",
        "test_news_speaker_unique = pd.DataFrame(test_news.speaker.unique(), columns=['speaker'])\n",
        "\n",
        "\n",
        "# unique speakers in train dataset\n",
        "test_news_speaker_unique['speaker'] = test_news_speaker_unique['speaker'].str.replace(\"-\", \" \")\n",
        "test_news_speaker_unique.head(2)"
      ],
      "execution_count": 13,
      "outputs": [
        {
          "output_type": "execute_result",
          "data": {
            "text/html": [
              "<div>\n",
              "<style scoped>\n",
              "    .dataframe tbody tr th:only-of-type {\n",
              "        vertical-align: middle;\n",
              "    }\n",
              "\n",
              "    .dataframe tbody tr th {\n",
              "        vertical-align: top;\n",
              "    }\n",
              "\n",
              "    .dataframe thead th {\n",
              "        text-align: right;\n",
              "    }\n",
              "</style>\n",
              "<table border=\"1\" class=\"dataframe\">\n",
              "  <thead>\n",
              "    <tr style=\"text-align: right;\">\n",
              "      <th></th>\n",
              "      <th>speaker</th>\n",
              "    </tr>\n",
              "  </thead>\n",
              "  <tbody>\n",
              "    <tr>\n",
              "      <th>0</th>\n",
              "      <td>rick perry</td>\n",
              "    </tr>\n",
              "    <tr>\n",
              "      <th>1</th>\n",
              "      <td>katrina shankland</td>\n",
              "    </tr>\n",
              "  </tbody>\n",
              "</table>\n",
              "</div>"
            ],
            "text/plain": [
              "             speaker\n",
              "0         rick perry\n",
              "1  katrina shankland"
            ]
          },
          "metadata": {
            "tags": []
          },
          "execution_count": 13
        }
      ]
    },
    {
      "cell_type": "code",
      "metadata": {
        "id": "u5lNgpaX1Sni",
        "colab_type": "code",
        "outputId": "9fd645a6-b758-4a33-82fd-7b15e8ea8995",
        "colab": {
          "base_uri": "https://localhost:8080/",
          "height": 111
        }
      },
      "source": [
        "# Get unique speaker names\n",
        "valid_news_speaker_unique = pd.DataFrame(valid_news.speaker.unique(), columns=['speaker'])\n",
        "\n",
        "\n",
        "# unique speakers in train dataset\n",
        "valid_news_speaker_unique['speaker'] = valid_news_speaker_unique['speaker'].str.replace(\"-\", \" \")\n",
        "valid_news_speaker_unique.head(2)"
      ],
      "execution_count": 14,
      "outputs": [
        {
          "output_type": "execute_result",
          "data": {
            "text/html": [
              "<div>\n",
              "<style scoped>\n",
              "    .dataframe tbody tr th:only-of-type {\n",
              "        vertical-align: middle;\n",
              "    }\n",
              "\n",
              "    .dataframe tbody tr th {\n",
              "        vertical-align: top;\n",
              "    }\n",
              "\n",
              "    .dataframe thead th {\n",
              "        text-align: right;\n",
              "    }\n",
              "</style>\n",
              "<table border=\"1\" class=\"dataframe\">\n",
              "  <thead>\n",
              "    <tr style=\"text-align: right;\">\n",
              "      <th></th>\n",
              "      <th>speaker</th>\n",
              "    </tr>\n",
              "  </thead>\n",
              "  <tbody>\n",
              "    <tr>\n",
              "      <th>0</th>\n",
              "      <td>vicky hartzler</td>\n",
              "    </tr>\n",
              "    <tr>\n",
              "      <th>1</th>\n",
              "      <td>chain email</td>\n",
              "    </tr>\n",
              "  </tbody>\n",
              "</table>\n",
              "</div>"
            ],
            "text/plain": [
              "          speaker\n",
              "0  vicky hartzler\n",
              "1     chain email"
            ]
          },
          "metadata": {
            "tags": []
          },
          "execution_count": 14
        }
      ]
    },
    {
      "cell_type": "code",
      "metadata": {
        "id": "XYKFEkNM1YcF",
        "colab_type": "code",
        "outputId": "daab7fef-f447-40ba-d29d-eee4026f97bd",
        "colab": {
          "base_uri": "https://localhost:8080/",
          "height": 359
        }
      },
      "source": [
        "# getting all the unique speakers within all the datasets\n",
        "speakers = pd.concat([train_news_speaker_unique, test_news_speaker_unique, valid_news_speaker_unique]).drop_duplicates().reset_index(drop=True)\n",
        "speakers.head(10)"
      ],
      "execution_count": 16,
      "outputs": [
        {
          "output_type": "execute_result",
          "data": {
            "text/html": [
              "<div>\n",
              "<style scoped>\n",
              "    .dataframe tbody tr th:only-of-type {\n",
              "        vertical-align: middle;\n",
              "    }\n",
              "\n",
              "    .dataframe tbody tr th {\n",
              "        vertical-align: top;\n",
              "    }\n",
              "\n",
              "    .dataframe thead th {\n",
              "        text-align: right;\n",
              "    }\n",
              "</style>\n",
              "<table border=\"1\" class=\"dataframe\">\n",
              "  <thead>\n",
              "    <tr style=\"text-align: right;\">\n",
              "      <th></th>\n",
              "      <th>speaker</th>\n",
              "    </tr>\n",
              "  </thead>\n",
              "  <tbody>\n",
              "    <tr>\n",
              "      <th>0</th>\n",
              "      <td>dwayne bohac</td>\n",
              "    </tr>\n",
              "    <tr>\n",
              "      <th>1</th>\n",
              "      <td>scott surovell</td>\n",
              "    </tr>\n",
              "    <tr>\n",
              "      <th>2</th>\n",
              "      <td>barack obama</td>\n",
              "    </tr>\n",
              "    <tr>\n",
              "      <th>3</th>\n",
              "      <td>blog posting</td>\n",
              "    </tr>\n",
              "    <tr>\n",
              "      <th>4</th>\n",
              "      <td>charlie crist</td>\n",
              "    </tr>\n",
              "    <tr>\n",
              "      <th>5</th>\n",
              "      <td>robin vos</td>\n",
              "    </tr>\n",
              "    <tr>\n",
              "      <th>6</th>\n",
              "      <td>republican party texas</td>\n",
              "    </tr>\n",
              "    <tr>\n",
              "      <th>7</th>\n",
              "      <td>oregon lottery</td>\n",
              "    </tr>\n",
              "    <tr>\n",
              "      <th>8</th>\n",
              "      <td>duey stroebel</td>\n",
              "    </tr>\n",
              "    <tr>\n",
              "      <th>9</th>\n",
              "      <td>robert menendez</td>\n",
              "    </tr>\n",
              "  </tbody>\n",
              "</table>\n",
              "</div>"
            ],
            "text/plain": [
              "                  speaker\n",
              "0            dwayne bohac\n",
              "1          scott surovell\n",
              "2            barack obama\n",
              "3            blog posting\n",
              "4           charlie crist\n",
              "5               robin vos\n",
              "6  republican party texas\n",
              "7          oregon lottery\n",
              "8           duey stroebel\n",
              "9         robert menendez"
            ]
          },
          "metadata": {
            "tags": []
          },
          "execution_count": 16
        }
      ]
    },
    {
      "cell_type": "code",
      "metadata": {
        "id": "obgUV3WOBPXw",
        "colab_type": "code",
        "colab": {}
      },
      "source": [
        "# # saving data to csv\n",
        "# speakers.to_csv('speakers_unique.csv')\n",
        "# !cp speakers_unique.csv drive/My\\ Drive/"
      ],
      "execution_count": 0,
      "outputs": []
    },
    {
      "cell_type": "markdown",
      "metadata": {
        "id": "9ccZdq8kJMtP",
        "colab_type": "text"
      },
      "source": [
        "## Twitter Handles"
      ]
    },
    {
      "cell_type": "code",
      "metadata": {
        "id": "0JjdVSMh4SkM",
        "colab_type": "code",
        "colab": {}
      },
      "source": [
        "speakers['twitter_handle'] = ''"
      ],
      "execution_count": 0,
      "outputs": []
    },
    {
      "cell_type": "code",
      "metadata": {
        "id": "Q1PPX6w50wav",
        "colab_type": "code",
        "outputId": "acddd331-70cf-441a-a99d-b21c092e9e8d",
        "colab": {
          "base_uri": "https://localhost:8080/",
          "height": 578
        }
      },
      "source": [
        "# Getting twitter handle for speakers\n",
        "\n",
        "speakers = speakers[:10]\n",
        "#train_speaker = train_news\n",
        "\n",
        "# speaker name\n",
        "#for i,(index,row) in enumerate(speakers.iterrows()):\n",
        "#     if i < 2654: continue # skip first n rows\n",
        "for index, row in speakers.iterrows():\n",
        "  \n",
        "    name = speakers.at[index,'speaker']\n",
        "    #name = name.replace(\"-\", \" \").lower()\n",
        "    print(name)\n",
        "    #perform user search\n",
        "    res = twitter.users.search(q = name)\n",
        "    \n",
        "    # loop through each of the users, and print their details\n",
        "    for user in res:\n",
        "        #print(\"@%s (%s): %s\" % (user[\"screen_name\"], user[\"name\"], user[\"location\"]))\n",
        "        if user[\"name\"].lower().find(name) == 0:\n",
        "            print(\"@%s (%s): %s\" % (user[\"screen_name\"], user[\"name\"], user[\"location\"]) + '\\n')\n",
        "            speakers.at[index,'twitter_handle'] = user[\"screen_name\"]\n",
        "        break\n",
        "    #print('\\n')\n",
        "\n",
        "speakers.head()"
      ],
      "execution_count": 21,
      "outputs": [
        {
          "output_type": "stream",
          "text": [
            "dwayne bohac\n",
            "@dwayne_bohac (Dwayne Bohac): Houston, TX\n",
            "\n",
            "scott surovell\n",
            "@ssurovell (Scott Surovell): Mt. Vernon, Virginia\n",
            "\n",
            "barack obama\n",
            "@BarackObama (Barack Obama): Washington, DC\n",
            "\n",
            "blog posting\n",
            "charlie crist\n",
            "@CharlieCrist (Charlie Crist): St. Petersburg, Florida\n",
            "\n",
            "robin vos\n",
            "republican party texas\n",
            "oregon lottery\n",
            "@oregon_lottery (Oregon Lottery): Oregon\n",
            "\n",
            "duey stroebel\n",
            "@SenStroebel (Duey Stroebel): \n",
            "\n",
            "robert menendez\n"
          ],
          "name": "stdout"
        },
        {
          "output_type": "execute_result",
          "data": {
            "text/html": [
              "<div>\n",
              "<style scoped>\n",
              "    .dataframe tbody tr th:only-of-type {\n",
              "        vertical-align: middle;\n",
              "    }\n",
              "\n",
              "    .dataframe tbody tr th {\n",
              "        vertical-align: top;\n",
              "    }\n",
              "\n",
              "    .dataframe thead th {\n",
              "        text-align: right;\n",
              "    }\n",
              "</style>\n",
              "<table border=\"1\" class=\"dataframe\">\n",
              "  <thead>\n",
              "    <tr style=\"text-align: right;\">\n",
              "      <th></th>\n",
              "      <th>speaker</th>\n",
              "      <th>twitter_handle</th>\n",
              "    </tr>\n",
              "  </thead>\n",
              "  <tbody>\n",
              "    <tr>\n",
              "      <th>0</th>\n",
              "      <td>dwayne bohac</td>\n",
              "      <td>dwayne_bohac</td>\n",
              "    </tr>\n",
              "    <tr>\n",
              "      <th>1</th>\n",
              "      <td>scott surovell</td>\n",
              "      <td>ssurovell</td>\n",
              "    </tr>\n",
              "    <tr>\n",
              "      <th>2</th>\n",
              "      <td>barack obama</td>\n",
              "      <td>BarackObama</td>\n",
              "    </tr>\n",
              "    <tr>\n",
              "      <th>3</th>\n",
              "      <td>blog posting</td>\n",
              "      <td></td>\n",
              "    </tr>\n",
              "    <tr>\n",
              "      <th>4</th>\n",
              "      <td>charlie crist</td>\n",
              "      <td>CharlieCrist</td>\n",
              "    </tr>\n",
              "  </tbody>\n",
              "</table>\n",
              "</div>"
            ],
            "text/plain": [
              "          speaker twitter_handle\n",
              "0    dwayne bohac   dwayne_bohac\n",
              "1  scott surovell      ssurovell\n",
              "2    barack obama    BarackObama\n",
              "3    blog posting               \n",
              "4   charlie crist   CharlieCrist"
            ]
          },
          "metadata": {
            "tags": []
          },
          "execution_count": 21
        }
      ]
    },
    {
      "cell_type": "code",
      "metadata": {
        "id": "nNLA2hJd44kz",
        "colab_type": "code",
        "colab": {
          "base_uri": "https://localhost:8080/",
          "height": 359
        },
        "outputId": "1fb74328-9a42-49e4-8bcf-e1bc4c54b390"
      },
      "source": [
        "speakers"
      ],
      "execution_count": 22,
      "outputs": [
        {
          "output_type": "execute_result",
          "data": {
            "text/html": [
              "<div>\n",
              "<style scoped>\n",
              "    .dataframe tbody tr th:only-of-type {\n",
              "        vertical-align: middle;\n",
              "    }\n",
              "\n",
              "    .dataframe tbody tr th {\n",
              "        vertical-align: top;\n",
              "    }\n",
              "\n",
              "    .dataframe thead th {\n",
              "        text-align: right;\n",
              "    }\n",
              "</style>\n",
              "<table border=\"1\" class=\"dataframe\">\n",
              "  <thead>\n",
              "    <tr style=\"text-align: right;\">\n",
              "      <th></th>\n",
              "      <th>speaker</th>\n",
              "      <th>twitter_handle</th>\n",
              "    </tr>\n",
              "  </thead>\n",
              "  <tbody>\n",
              "    <tr>\n",
              "      <th>0</th>\n",
              "      <td>dwayne bohac</td>\n",
              "      <td>dwayne_bohac</td>\n",
              "    </tr>\n",
              "    <tr>\n",
              "      <th>1</th>\n",
              "      <td>scott surovell</td>\n",
              "      <td>ssurovell</td>\n",
              "    </tr>\n",
              "    <tr>\n",
              "      <th>2</th>\n",
              "      <td>barack obama</td>\n",
              "      <td>BarackObama</td>\n",
              "    </tr>\n",
              "    <tr>\n",
              "      <th>3</th>\n",
              "      <td>blog posting</td>\n",
              "      <td></td>\n",
              "    </tr>\n",
              "    <tr>\n",
              "      <th>4</th>\n",
              "      <td>charlie crist</td>\n",
              "      <td>CharlieCrist</td>\n",
              "    </tr>\n",
              "    <tr>\n",
              "      <th>5</th>\n",
              "      <td>robin vos</td>\n",
              "      <td></td>\n",
              "    </tr>\n",
              "    <tr>\n",
              "      <th>6</th>\n",
              "      <td>republican party texas</td>\n",
              "      <td></td>\n",
              "    </tr>\n",
              "    <tr>\n",
              "      <th>7</th>\n",
              "      <td>oregon lottery</td>\n",
              "      <td>oregon_lottery</td>\n",
              "    </tr>\n",
              "    <tr>\n",
              "      <th>8</th>\n",
              "      <td>duey stroebel</td>\n",
              "      <td>SenStroebel</td>\n",
              "    </tr>\n",
              "    <tr>\n",
              "      <th>9</th>\n",
              "      <td>robert menendez</td>\n",
              "      <td></td>\n",
              "    </tr>\n",
              "  </tbody>\n",
              "</table>\n",
              "</div>"
            ],
            "text/plain": [
              "                  speaker  twitter_handle\n",
              "0            dwayne bohac    dwayne_bohac\n",
              "1          scott surovell       ssurovell\n",
              "2            barack obama     BarackObama\n",
              "3            blog posting                \n",
              "4           charlie crist    CharlieCrist\n",
              "5               robin vos                \n",
              "6  republican party texas                \n",
              "7          oregon lottery  oregon_lottery\n",
              "8           duey stroebel     SenStroebel\n",
              "9         robert menendez                "
            ]
          },
          "metadata": {
            "tags": []
          },
          "execution_count": 22
        }
      ]
    },
    {
      "cell_type": "code",
      "metadata": {
        "id": "fvZldozW9LeV",
        "colab_type": "code",
        "colab": {}
      },
      "source": [
        "# saving data to csv\n",
        "#speakers.to_csv('speakers3.csv')\n",
        "#!cp speakers3.csv drive/My\\ Drive/\n"
      ],
      "execution_count": 0,
      "outputs": []
    },
    {
      "cell_type": "markdown",
      "metadata": {
        "id": "m_5fgbL05Gzz",
        "colab_type": "text"
      },
      "source": [
        "## Twitter Followers"
      ]
    },
    {
      "cell_type": "code",
      "metadata": {
        "id": "vALB26NO9odH",
        "colab_type": "code",
        "outputId": "2e0802e4-3636-4587-df82-aa472ae71eff",
        "colab": {
          "base_uri": "https://localhost:8080/",
          "height": 204
        }
      },
      "source": [
        "twitter = 'https://raw.githubusercontent.com/jems2019/AlternusVera/socialCredibility/input_data/social_cred/speakers_with_twitter.csv'\n",
        "\n",
        "twitter = pd.read_csv(twitter, error_bad_lines=False).dropna().reset_index(drop=True)\n",
        "\n",
        "#twitter['twitter_handle'] = '@' + twitter['twitter_handle'].astype(str)\n",
        "twitter = twitter.drop(['Unnamed: 0'], axis=1)\n",
        "twitter.head()\n",
        "\n",
        "# saving data to csv\n",
        "#speakers.to_csv('twitter_clean.csv')\n",
        "#!cp twitter_clean.csv drive/My\\ Drive/"
      ],
      "execution_count": 24,
      "outputs": [
        {
          "output_type": "execute_result",
          "data": {
            "text/html": [
              "<div>\n",
              "<style scoped>\n",
              "    .dataframe tbody tr th:only-of-type {\n",
              "        vertical-align: middle;\n",
              "    }\n",
              "\n",
              "    .dataframe tbody tr th {\n",
              "        vertical-align: top;\n",
              "    }\n",
              "\n",
              "    .dataframe thead th {\n",
              "        text-align: right;\n",
              "    }\n",
              "</style>\n",
              "<table border=\"1\" class=\"dataframe\">\n",
              "  <thead>\n",
              "    <tr style=\"text-align: right;\">\n",
              "      <th></th>\n",
              "      <th>speaker</th>\n",
              "      <th>twitter_handle</th>\n",
              "    </tr>\n",
              "  </thead>\n",
              "  <tbody>\n",
              "    <tr>\n",
              "      <th>0</th>\n",
              "      <td>dwayne bohac</td>\n",
              "      <td>dwayne_bohac</td>\n",
              "    </tr>\n",
              "    <tr>\n",
              "      <th>1</th>\n",
              "      <td>scott surovell</td>\n",
              "      <td>ssurovell</td>\n",
              "    </tr>\n",
              "    <tr>\n",
              "      <th>2</th>\n",
              "      <td>barack obama</td>\n",
              "      <td>BarackObama</td>\n",
              "    </tr>\n",
              "    <tr>\n",
              "      <th>3</th>\n",
              "      <td>charlie crist</td>\n",
              "      <td>CharlieCrist</td>\n",
              "    </tr>\n",
              "    <tr>\n",
              "      <th>4</th>\n",
              "      <td>oregon lottery</td>\n",
              "      <td>oregon_lottery</td>\n",
              "    </tr>\n",
              "  </tbody>\n",
              "</table>\n",
              "</div>"
            ],
            "text/plain": [
              "          speaker  twitter_handle\n",
              "0    dwayne bohac    dwayne_bohac\n",
              "1  scott surovell       ssurovell\n",
              "2    barack obama     BarackObama\n",
              "3   charlie crist    CharlieCrist\n",
              "4  oregon lottery  oregon_lottery"
            ]
          },
          "metadata": {
            "tags": []
          },
          "execution_count": 24
        }
      ]
    },
    {
      "cell_type": "code",
      "metadata": {
        "id": "BNWuasKp5UGn",
        "colab_type": "code",
        "outputId": "27344b8f-6c46-4338-8285-c5a3c3f3081f",
        "colab": {
          "base_uri": "https://localhost:8080/",
          "height": 34
        }
      },
      "source": [
        "twitter.shape"
      ],
      "execution_count": 25,
      "outputs": [
        {
          "output_type": "execute_result",
          "data": {
            "text/plain": [
              "(1880, 2)"
            ]
          },
          "metadata": {
            "tags": []
          },
          "execution_count": 25
        }
      ]
    },
    {
      "cell_type": "code",
      "metadata": {
        "id": "C2TcHG9051hc",
        "colab_type": "code",
        "outputId": "fe84000a-7b2c-49d3-c024-52323431c9a9",
        "colab": {
          "base_uri": "https://localhost:8080/",
          "height": 451
        }
      },
      "source": [
        "twitter = twitter[:10]\n",
        "# for i,(index,row) in enumerate(twitter.iterrows()):\n",
        "#     if i < 1157: continue # skip first n rows\n",
        "for index, row in twitter.iterrows():\n",
        "    \n",
        "    name = twitter.at[index,'twitter_handle'].replace(' \\u200f',\"\")\n",
        "    #name = name.replace(\"-\", \" \").lower()\n",
        "    print(name)\n",
        "    follower_count = api.get_user(name).followers_count\n",
        "    print(\" \", follower_count)\n",
        "    twitter.at[index,'followers'] = follower_count\n",
        "\n",
        "\n",
        "twitter.head(2)"
      ],
      "execution_count": 27,
      "outputs": [
        {
          "output_type": "stream",
          "text": [
            "dwayne_bohac\n",
            "  2119\n",
            "ssurovell\n",
            "  5971\n",
            "BarackObama\n",
            "  106187374\n",
            "CharlieCrist\n",
            "  32226\n",
            "oregon_lottery\n",
            "  3543\n",
            "SenStroebel\n",
            "  1403\n",
            "SenatorMenendez\n",
            "  161379\n",
            "SenSanders\n",
            "  8344166\n",
            "MittRomney\n",
            "  1975440\n",
            "DoonesburyComic\n",
            "  2548\n"
          ],
          "name": "stdout"
        },
        {
          "output_type": "execute_result",
          "data": {
            "text/html": [
              "<div>\n",
              "<style scoped>\n",
              "    .dataframe tbody tr th:only-of-type {\n",
              "        vertical-align: middle;\n",
              "    }\n",
              "\n",
              "    .dataframe tbody tr th {\n",
              "        vertical-align: top;\n",
              "    }\n",
              "\n",
              "    .dataframe thead th {\n",
              "        text-align: right;\n",
              "    }\n",
              "</style>\n",
              "<table border=\"1\" class=\"dataframe\">\n",
              "  <thead>\n",
              "    <tr style=\"text-align: right;\">\n",
              "      <th></th>\n",
              "      <th>speaker</th>\n",
              "      <th>twitter_handle</th>\n",
              "      <th>followers</th>\n",
              "    </tr>\n",
              "  </thead>\n",
              "  <tbody>\n",
              "    <tr>\n",
              "      <th>0</th>\n",
              "      <td>dwayne bohac</td>\n",
              "      <td>dwayne_bohac</td>\n",
              "      <td>2119.0</td>\n",
              "    </tr>\n",
              "    <tr>\n",
              "      <th>1</th>\n",
              "      <td>scott surovell</td>\n",
              "      <td>ssurovell</td>\n",
              "      <td>5971.0</td>\n",
              "    </tr>\n",
              "  </tbody>\n",
              "</table>\n",
              "</div>"
            ],
            "text/plain": [
              "          speaker twitter_handle  followers\n",
              "0    dwayne bohac   dwayne_bohac     2119.0\n",
              "1  scott surovell      ssurovell     5971.0"
            ]
          },
          "metadata": {
            "tags": []
          },
          "execution_count": 27
        }
      ]
    },
    {
      "cell_type": "code",
      "metadata": {
        "id": "G7Ne58rb7Bun",
        "colab_type": "code",
        "outputId": "020a6515-c744-4327-82eb-a08bb6fae249",
        "colab": {
          "base_uri": "https://localhost:8080/",
          "height": 359
        }
      },
      "source": [
        "twitter.head(10)"
      ],
      "execution_count": 28,
      "outputs": [
        {
          "output_type": "execute_result",
          "data": {
            "text/html": [
              "<div>\n",
              "<style scoped>\n",
              "    .dataframe tbody tr th:only-of-type {\n",
              "        vertical-align: middle;\n",
              "    }\n",
              "\n",
              "    .dataframe tbody tr th {\n",
              "        vertical-align: top;\n",
              "    }\n",
              "\n",
              "    .dataframe thead th {\n",
              "        text-align: right;\n",
              "    }\n",
              "</style>\n",
              "<table border=\"1\" class=\"dataframe\">\n",
              "  <thead>\n",
              "    <tr style=\"text-align: right;\">\n",
              "      <th></th>\n",
              "      <th>speaker</th>\n",
              "      <th>twitter_handle</th>\n",
              "      <th>followers</th>\n",
              "    </tr>\n",
              "  </thead>\n",
              "  <tbody>\n",
              "    <tr>\n",
              "      <th>0</th>\n",
              "      <td>dwayne bohac</td>\n",
              "      <td>dwayne_bohac</td>\n",
              "      <td>2119.0</td>\n",
              "    </tr>\n",
              "    <tr>\n",
              "      <th>1</th>\n",
              "      <td>scott surovell</td>\n",
              "      <td>ssurovell</td>\n",
              "      <td>5971.0</td>\n",
              "    </tr>\n",
              "    <tr>\n",
              "      <th>2</th>\n",
              "      <td>barack obama</td>\n",
              "      <td>BarackObama</td>\n",
              "      <td>106187374.0</td>\n",
              "    </tr>\n",
              "    <tr>\n",
              "      <th>3</th>\n",
              "      <td>charlie crist</td>\n",
              "      <td>CharlieCrist</td>\n",
              "      <td>32226.0</td>\n",
              "    </tr>\n",
              "    <tr>\n",
              "      <th>4</th>\n",
              "      <td>oregon lottery</td>\n",
              "      <td>oregon_lottery</td>\n",
              "      <td>3543.0</td>\n",
              "    </tr>\n",
              "    <tr>\n",
              "      <th>5</th>\n",
              "      <td>duey stroebel</td>\n",
              "      <td>SenStroebel</td>\n",
              "      <td>1403.0</td>\n",
              "    </tr>\n",
              "    <tr>\n",
              "      <th>6</th>\n",
              "      <td>robert menendez</td>\n",
              "      <td>SenatorMenendez ‏</td>\n",
              "      <td>161379.0</td>\n",
              "    </tr>\n",
              "    <tr>\n",
              "      <th>7</th>\n",
              "      <td>bernie s</td>\n",
              "      <td>SenSanders</td>\n",
              "      <td>8344166.0</td>\n",
              "    </tr>\n",
              "    <tr>\n",
              "      <th>8</th>\n",
              "      <td>mitt romney</td>\n",
              "      <td>MittRomney</td>\n",
              "      <td>1975440.0</td>\n",
              "    </tr>\n",
              "    <tr>\n",
              "      <th>9</th>\n",
              "      <td>doonesbury</td>\n",
              "      <td>DoonesburyComic</td>\n",
              "      <td>2548.0</td>\n",
              "    </tr>\n",
              "  </tbody>\n",
              "</table>\n",
              "</div>"
            ],
            "text/plain": [
              "           speaker     twitter_handle    followers\n",
              "0     dwayne bohac       dwayne_bohac       2119.0\n",
              "1   scott surovell          ssurovell       5971.0\n",
              "2     barack obama        BarackObama  106187374.0\n",
              "3    charlie crist       CharlieCrist      32226.0\n",
              "4   oregon lottery     oregon_lottery       3543.0\n",
              "5    duey stroebel        SenStroebel       1403.0\n",
              "6  robert menendez  SenatorMenendez ‏     161379.0\n",
              "7         bernie s         SenSanders    8344166.0\n",
              "8      mitt romney         MittRomney    1975440.0\n",
              "9       doonesbury    DoonesburyComic       2548.0"
            ]
          },
          "metadata": {
            "tags": []
          },
          "execution_count": 28
        }
      ]
    },
    {
      "cell_type": "code",
      "metadata": {
        "id": "mvpNQmYR-mC4",
        "colab_type": "code",
        "colab": {}
      },
      "source": [
        "# saving data to csv\n",
        "#twitter.to_csv('followers2.csv')\n",
        "#!cp followers2.csv drive/My\\ Drive/"
      ],
      "execution_count": 0,
      "outputs": []
    },
    {
      "cell_type": "markdown",
      "metadata": {
        "id": "thakXQPFGUL3",
        "colab_type": "text"
      },
      "source": [
        "## Number of Tweets"
      ]
    },
    {
      "cell_type": "code",
      "metadata": {
        "id": "VxM28bRsHBCE",
        "colab_type": "code",
        "outputId": "0551ccd0-5cc0-4f69-83b8-0888bc52aad8",
        "colab": {
          "base_uri": "https://localhost:8080/",
          "height": 204
        }
      },
      "source": [
        "twitter = 'https://raw.githubusercontent.com/jems2019/AlternusVera/socialCredibility/input_data/social_cred/twitter_followers.csv'\n",
        "\n",
        "twitter = pd.read_csv(twitter, error_bad_lines=False).dropna().reset_index(drop=True)\n",
        "\n",
        "twitter = twitter.drop(['Unnamed: 0'], axis=1)\n",
        "twitter.head()\n"
      ],
      "execution_count": 29,
      "outputs": [
        {
          "output_type": "execute_result",
          "data": {
            "text/html": [
              "<div>\n",
              "<style scoped>\n",
              "    .dataframe tbody tr th:only-of-type {\n",
              "        vertical-align: middle;\n",
              "    }\n",
              "\n",
              "    .dataframe tbody tr th {\n",
              "        vertical-align: top;\n",
              "    }\n",
              "\n",
              "    .dataframe thead th {\n",
              "        text-align: right;\n",
              "    }\n",
              "</style>\n",
              "<table border=\"1\" class=\"dataframe\">\n",
              "  <thead>\n",
              "    <tr style=\"text-align: right;\">\n",
              "      <th></th>\n",
              "      <th>speaker</th>\n",
              "      <th>twitter_handle</th>\n",
              "      <th>followers</th>\n",
              "    </tr>\n",
              "  </thead>\n",
              "  <tbody>\n",
              "    <tr>\n",
              "      <th>0</th>\n",
              "      <td>dwayne bohac</td>\n",
              "      <td>dwayne_bohac</td>\n",
              "      <td>2124</td>\n",
              "    </tr>\n",
              "    <tr>\n",
              "      <th>1</th>\n",
              "      <td>scott surovell</td>\n",
              "      <td>ssurovell</td>\n",
              "      <td>5969</td>\n",
              "    </tr>\n",
              "    <tr>\n",
              "      <th>2</th>\n",
              "      <td>barack obama</td>\n",
              "      <td>BarackObama</td>\n",
              "      <td>106128237</td>\n",
              "    </tr>\n",
              "    <tr>\n",
              "      <th>3</th>\n",
              "      <td>charlie crist</td>\n",
              "      <td>CharlieCrist</td>\n",
              "      <td>32236</td>\n",
              "    </tr>\n",
              "    <tr>\n",
              "      <th>4</th>\n",
              "      <td>oregon lottery</td>\n",
              "      <td>oregon_lottery</td>\n",
              "      <td>3539</td>\n",
              "    </tr>\n",
              "  </tbody>\n",
              "</table>\n",
              "</div>"
            ],
            "text/plain": [
              "          speaker  twitter_handle  followers\n",
              "0    dwayne bohac    dwayne_bohac       2124\n",
              "1  scott surovell       ssurovell       5969\n",
              "2    barack obama     BarackObama  106128237\n",
              "3   charlie crist    CharlieCrist      32236\n",
              "4  oregon lottery  oregon_lottery       3539"
            ]
          },
          "metadata": {
            "tags": []
          },
          "execution_count": 29
        }
      ]
    },
    {
      "cell_type": "code",
      "metadata": {
        "id": "Oh0b2nacHvj0",
        "colab_type": "code",
        "outputId": "4fbe90c6-cc90-4c79-b348-ba9ed5b91ed0",
        "colab": {
          "base_uri": "https://localhost:8080/",
          "height": 34
        }
      },
      "source": [
        "# number of tweets SenSanders twitter handle has \n",
        "\n",
        "user = api.get_user('SenSanders')\n",
        "user.statuses_count\n"
      ],
      "execution_count": 30,
      "outputs": [
        {
          "output_type": "execute_result",
          "data": {
            "text/plain": [
              "20151"
            ]
          },
          "metadata": {
            "tags": []
          },
          "execution_count": 30
        }
      ]
    },
    {
      "cell_type": "code",
      "metadata": {
        "id": "ndGud_AkF3-g",
        "colab_type": "code",
        "outputId": "facdaab3-598b-48c7-e5a4-89458438e24b",
        "colab": {
          "base_uri": "https://localhost:8080/",
          "height": 357
        }
      },
      "source": [
        "twitter = twitter[:10]\n",
        "# for i,(index,row) in enumerate(twitter.iterrows()):\n",
        "#     if i < 1723: continue # skip first n rows\n",
        "for index, row in twitter.iterrows():\n",
        "    \n",
        "    name = twitter.at[index,'twitter_handle'].replace(' \\u200f',\"\")\n",
        "    #name = name.replace(\"-\", \" \").lower()\n",
        "    print(name)\n",
        "    tweets = api.get_user(name).statuses_count\n",
        "    verified = api.get_user(name).verified\n",
        "    print(\" \", tweets, \" \", verified)\n",
        "    twitter.at[index,'tweets'] = tweets\n",
        "    \n",
        "    if (verified):\n",
        "      twitter.at[index,'verified'] = 1\n",
        "    else:\n",
        "      twitter.at[index,'verified'] = 0\n",
        "    \n",
        "\n",
        "    \n"
      ],
      "execution_count": 31,
      "outputs": [
        {
          "output_type": "stream",
          "text": [
            "dwayne_bohac\n",
            "  1232   False\n",
            "ssurovell\n",
            "  8970   False\n",
            "BarackObama\n",
            "  15625   True\n",
            "CharlieCrist\n",
            "  2717   True\n",
            "oregon_lottery\n",
            "  4246   False\n",
            "SenStroebel\n",
            "  1201   False\n",
            "SenatorMenendez\n",
            "  10233   True\n",
            "SenSanders\n",
            "  20151   True\n",
            "MittRomney\n",
            "  1804   True\n",
            "DoonesburyComic\n",
            "  1160   False\n"
          ],
          "name": "stdout"
        }
      ]
    },
    {
      "cell_type": "code",
      "metadata": {
        "id": "LqJwzSd8GYak",
        "colab_type": "code",
        "outputId": "51095d52-41e5-4c41-84c7-93cd99557828",
        "colab": {
          "base_uri": "https://localhost:8080/",
          "height": 204
        }
      },
      "source": [
        "twitter.head(5)"
      ],
      "execution_count": 32,
      "outputs": [
        {
          "output_type": "execute_result",
          "data": {
            "text/html": [
              "<div>\n",
              "<style scoped>\n",
              "    .dataframe tbody tr th:only-of-type {\n",
              "        vertical-align: middle;\n",
              "    }\n",
              "\n",
              "    .dataframe tbody tr th {\n",
              "        vertical-align: top;\n",
              "    }\n",
              "\n",
              "    .dataframe thead th {\n",
              "        text-align: right;\n",
              "    }\n",
              "</style>\n",
              "<table border=\"1\" class=\"dataframe\">\n",
              "  <thead>\n",
              "    <tr style=\"text-align: right;\">\n",
              "      <th></th>\n",
              "      <th>speaker</th>\n",
              "      <th>twitter_handle</th>\n",
              "      <th>followers</th>\n",
              "      <th>tweets</th>\n",
              "      <th>verified</th>\n",
              "    </tr>\n",
              "  </thead>\n",
              "  <tbody>\n",
              "    <tr>\n",
              "      <th>0</th>\n",
              "      <td>dwayne bohac</td>\n",
              "      <td>dwayne_bohac</td>\n",
              "      <td>2124</td>\n",
              "      <td>1232.0</td>\n",
              "      <td>0.0</td>\n",
              "    </tr>\n",
              "    <tr>\n",
              "      <th>1</th>\n",
              "      <td>scott surovell</td>\n",
              "      <td>ssurovell</td>\n",
              "      <td>5969</td>\n",
              "      <td>8970.0</td>\n",
              "      <td>0.0</td>\n",
              "    </tr>\n",
              "    <tr>\n",
              "      <th>2</th>\n",
              "      <td>barack obama</td>\n",
              "      <td>BarackObama</td>\n",
              "      <td>106128237</td>\n",
              "      <td>15625.0</td>\n",
              "      <td>1.0</td>\n",
              "    </tr>\n",
              "    <tr>\n",
              "      <th>3</th>\n",
              "      <td>charlie crist</td>\n",
              "      <td>CharlieCrist</td>\n",
              "      <td>32236</td>\n",
              "      <td>2717.0</td>\n",
              "      <td>1.0</td>\n",
              "    </tr>\n",
              "    <tr>\n",
              "      <th>4</th>\n",
              "      <td>oregon lottery</td>\n",
              "      <td>oregon_lottery</td>\n",
              "      <td>3539</td>\n",
              "      <td>4246.0</td>\n",
              "      <td>0.0</td>\n",
              "    </tr>\n",
              "  </tbody>\n",
              "</table>\n",
              "</div>"
            ],
            "text/plain": [
              "          speaker  twitter_handle  followers   tweets  verified\n",
              "0    dwayne bohac    dwayne_bohac       2124   1232.0       0.0\n",
              "1  scott surovell       ssurovell       5969   8970.0       0.0\n",
              "2    barack obama     BarackObama  106128237  15625.0       1.0\n",
              "3   charlie crist    CharlieCrist      32236   2717.0       1.0\n",
              "4  oregon lottery  oregon_lottery       3539   4246.0       0.0"
            ]
          },
          "metadata": {
            "tags": []
          },
          "execution_count": 32
        }
      ]
    },
    {
      "cell_type": "code",
      "metadata": {
        "id": "kuDgkzbHKxF3",
        "colab_type": "code",
        "colab": {}
      },
      "source": [
        "# # saving data to csv\n",
        "# twitter.to_csv('tweets_verified_5.csv')\n",
        "# !cp tweets_verified_5.csv drive/My\\ Drive/"
      ],
      "execution_count": 0,
      "outputs": []
    },
    {
      "cell_type": "markdown",
      "metadata": {
        "id": "2eHL7FQFLNUw",
        "colab_type": "text"
      },
      "source": [
        "## Match Twitter handles with dataset"
      ]
    },
    {
      "cell_type": "code",
      "metadata": {
        "id": "N6epL9TG7zMw",
        "colab_type": "code",
        "outputId": "61bdfa95-afd0-434b-e91a-fd5d23328da0",
        "colab": {
          "base_uri": "https://localhost:8080/",
          "height": 204
        }
      },
      "source": [
        "twitter = 'https://raw.githubusercontent.com/jems2019/AlternusVera/socialCredibility/input_data/social_cred/followers_tweets_verified.csv'\n",
        "\n",
        "twitter = pd.read_csv(twitter, error_bad_lines=False).dropna().reset_index(drop=True)\n",
        "\n",
        "#twitter['twitter_handle'] = '@' + twitter['twitter_handle'].astype(str)\n",
        "twitter = twitter.drop(['Unnamed: 0'], axis=1)\n",
        "twitter.head()\n"
      ],
      "execution_count": 33,
      "outputs": [
        {
          "output_type": "execute_result",
          "data": {
            "text/html": [
              "<div>\n",
              "<style scoped>\n",
              "    .dataframe tbody tr th:only-of-type {\n",
              "        vertical-align: middle;\n",
              "    }\n",
              "\n",
              "    .dataframe tbody tr th {\n",
              "        vertical-align: top;\n",
              "    }\n",
              "\n",
              "    .dataframe thead th {\n",
              "        text-align: right;\n",
              "    }\n",
              "</style>\n",
              "<table border=\"1\" class=\"dataframe\">\n",
              "  <thead>\n",
              "    <tr style=\"text-align: right;\">\n",
              "      <th></th>\n",
              "      <th>speaker</th>\n",
              "      <th>twitter_handle</th>\n",
              "      <th>followers</th>\n",
              "      <th>tweets</th>\n",
              "      <th>verified</th>\n",
              "    </tr>\n",
              "  </thead>\n",
              "  <tbody>\n",
              "    <tr>\n",
              "      <th>0</th>\n",
              "      <td>dwayne bohac</td>\n",
              "      <td>dwayne_bohac</td>\n",
              "      <td>2124</td>\n",
              "      <td>1230</td>\n",
              "      <td>0</td>\n",
              "    </tr>\n",
              "    <tr>\n",
              "      <th>1</th>\n",
              "      <td>scott surovell</td>\n",
              "      <td>ssurovell</td>\n",
              "      <td>5969</td>\n",
              "      <td>8953</td>\n",
              "      <td>0</td>\n",
              "    </tr>\n",
              "    <tr>\n",
              "      <th>2</th>\n",
              "      <td>barack obama</td>\n",
              "      <td>BarackObama</td>\n",
              "      <td>106128237</td>\n",
              "      <td>15625</td>\n",
              "      <td>1</td>\n",
              "    </tr>\n",
              "    <tr>\n",
              "      <th>3</th>\n",
              "      <td>charlie crist</td>\n",
              "      <td>CharlieCrist</td>\n",
              "      <td>32236</td>\n",
              "      <td>2712</td>\n",
              "      <td>1</td>\n",
              "    </tr>\n",
              "    <tr>\n",
              "      <th>4</th>\n",
              "      <td>oregon lottery</td>\n",
              "      <td>oregon_lottery</td>\n",
              "      <td>3539</td>\n",
              "      <td>4240</td>\n",
              "      <td>0</td>\n",
              "    </tr>\n",
              "  </tbody>\n",
              "</table>\n",
              "</div>"
            ],
            "text/plain": [
              "          speaker  twitter_handle  followers  tweets  verified\n",
              "0    dwayne bohac    dwayne_bohac       2124    1230         0\n",
              "1  scott surovell       ssurovell       5969    8953         0\n",
              "2    barack obama     BarackObama  106128237   15625         1\n",
              "3   charlie crist    CharlieCrist      32236    2712         1\n",
              "4  oregon lottery  oregon_lottery       3539    4240         0"
            ]
          },
          "metadata": {
            "tags": []
          },
          "execution_count": 33
        }
      ]
    },
    {
      "cell_type": "code",
      "metadata": {
        "id": "yGE9B3B3LeQ_",
        "colab_type": "code",
        "colab": {
          "base_uri": "https://localhost:8080/",
          "height": 199
        },
        "outputId": "4bfa8875-6eb5-4904-88a5-f7f12c9a1d11"
      },
      "source": [
        "# Source https://stackoverflow.com/questions/46789098/create-new-column-in-dataframe-with-match-values-from-other-dataframe\n",
        "\n",
        "\n",
        "train_news['twitter_handle'] = train_news['speaker'].str.replace(\"-\", \" \").map(twitter.set_index('speaker')['twitter_handle'])\n",
        "train_news['followers'] = train_news['speaker'].str.replace(\"-\", \" \").map(twitter.set_index('speaker')['followers'])\n",
        "train_news['tweets'] = train_news['speaker'].str.replace(\"-\", \" \").map(twitter.set_index('speaker')['tweets'])\n",
        "train_news['verified'] = train_news['speaker'].str.replace(\"-\", \" \").map(twitter.set_index('speaker')['verified'])\n",
        "\n",
        "train_news.head(2)\n",
        "\n",
        "# saving data to csv\n",
        "# train_news.to_csv('train_news_twitter.csv')\n",
        "# !cp train_news_twitter.csv drive/My\\ Drive/"
      ],
      "execution_count": 35,
      "outputs": [
        {
          "output_type": "execute_result",
          "data": {
            "text/html": [
              "<div>\n",
              "<style scoped>\n",
              "    .dataframe tbody tr th:only-of-type {\n",
              "        vertical-align: middle;\n",
              "    }\n",
              "\n",
              "    .dataframe tbody tr th {\n",
              "        vertical-align: top;\n",
              "    }\n",
              "\n",
              "    .dataframe thead th {\n",
              "        text-align: right;\n",
              "    }\n",
              "</style>\n",
              "<table border=\"1\" class=\"dataframe\">\n",
              "  <thead>\n",
              "    <tr style=\"text-align: right;\">\n",
              "      <th></th>\n",
              "      <th>jsonid</th>\n",
              "      <th>label</th>\n",
              "      <th>headline_text</th>\n",
              "      <th>subject</th>\n",
              "      <th>speaker</th>\n",
              "      <th>speakerjobtitle</th>\n",
              "      <th>stateinfo</th>\n",
              "      <th>partyaffiliation</th>\n",
              "      <th>barelytruecounts</th>\n",
              "      <th>falsecounts</th>\n",
              "      <th>halftruecounts</th>\n",
              "      <th>mostlytrueocunts</th>\n",
              "      <th>pantsonfirecounts</th>\n",
              "      <th>context</th>\n",
              "      <th>twitter_handle</th>\n",
              "      <th>followers</th>\n",
              "      <th>tweets</th>\n",
              "      <th>verified</th>\n",
              "    </tr>\n",
              "  </thead>\n",
              "  <tbody>\n",
              "    <tr>\n",
              "      <th>0</th>\n",
              "      <td>2635.json</td>\n",
              "      <td>false</td>\n",
              "      <td>Says the Annies List political group supports ...</td>\n",
              "      <td>abortion</td>\n",
              "      <td>dwayne-bohac</td>\n",
              "      <td>State representative</td>\n",
              "      <td>Texas</td>\n",
              "      <td>republican</td>\n",
              "      <td>0.0</td>\n",
              "      <td>1.0</td>\n",
              "      <td>0.0</td>\n",
              "      <td>0.0</td>\n",
              "      <td>0.0</td>\n",
              "      <td>a mailer</td>\n",
              "      <td>dwayne_bohac</td>\n",
              "      <td>2124.0</td>\n",
              "      <td>1230.0</td>\n",
              "      <td>0.0</td>\n",
              "    </tr>\n",
              "    <tr>\n",
              "      <th>1</th>\n",
              "      <td>10540.json</td>\n",
              "      <td>half-true</td>\n",
              "      <td>When did the decline of coal start? It started...</td>\n",
              "      <td>energy,history,job-accomplishments</td>\n",
              "      <td>scott-surovell</td>\n",
              "      <td>State delegate</td>\n",
              "      <td>Virginia</td>\n",
              "      <td>democrat</td>\n",
              "      <td>0.0</td>\n",
              "      <td>0.0</td>\n",
              "      <td>1.0</td>\n",
              "      <td>1.0</td>\n",
              "      <td>0.0</td>\n",
              "      <td>a floor speech.</td>\n",
              "      <td>ssurovell</td>\n",
              "      <td>5969.0</td>\n",
              "      <td>8953.0</td>\n",
              "      <td>0.0</td>\n",
              "    </tr>\n",
              "  </tbody>\n",
              "</table>\n",
              "</div>"
            ],
            "text/plain": [
              "       jsonid      label  ...  tweets verified\n",
              "0   2635.json      false  ...  1230.0      0.0\n",
              "1  10540.json  half-true  ...  8953.0      0.0\n",
              "\n",
              "[2 rows x 18 columns]"
            ]
          },
          "metadata": {
            "tags": []
          },
          "execution_count": 35
        }
      ]
    },
    {
      "cell_type": "code",
      "metadata": {
        "id": "4gteYw8hR9G9",
        "colab_type": "code",
        "outputId": "fd0ba9bb-7d57-446c-f08a-2b26d6366763",
        "colab": {
          "base_uri": "https://localhost:8080/",
          "height": 199
        }
      },
      "source": [
        "# Source https://stackoverflow.com/questions/46789098/create-new-column-in-dataframe-with-match-values-from-other-dataframe\n",
        "\n",
        "\n",
        "\n",
        "test_news['twitter_handle'] = test_news['speaker'].str.replace(\"-\", \" \").map(twitter.set_index('speaker')['twitter_handle'])\n",
        "test_news['followers'] = test_news['speaker'].str.replace(\"-\", \" \").map(twitter.set_index('speaker')['followers'])\n",
        "test_news['tweets'] = test_news['speaker'].str.replace(\"-\", \" \").map(twitter.set_index('speaker')['tweets'])\n",
        "test_news['verified'] = test_news['speaker'].str.replace(\"-\", \" \").map(twitter.set_index('speaker')['verified'])\n",
        "\n",
        "test_news.head(2)\n",
        "\n",
        "# saving data to csv\n",
        "# test_news.to_csv('test_news_twitter.csv')\n",
        "# !cp test_news_twitter.csv drive/My\\ Drive/"
      ],
      "execution_count": 36,
      "outputs": [
        {
          "output_type": "execute_result",
          "data": {
            "text/html": [
              "<div>\n",
              "<style scoped>\n",
              "    .dataframe tbody tr th:only-of-type {\n",
              "        vertical-align: middle;\n",
              "    }\n",
              "\n",
              "    .dataframe tbody tr th {\n",
              "        vertical-align: top;\n",
              "    }\n",
              "\n",
              "    .dataframe thead th {\n",
              "        text-align: right;\n",
              "    }\n",
              "</style>\n",
              "<table border=\"1\" class=\"dataframe\">\n",
              "  <thead>\n",
              "    <tr style=\"text-align: right;\">\n",
              "      <th></th>\n",
              "      <th>jsonid</th>\n",
              "      <th>label</th>\n",
              "      <th>headline_text</th>\n",
              "      <th>subject</th>\n",
              "      <th>speaker</th>\n",
              "      <th>speakerjobtitle</th>\n",
              "      <th>stateinfo</th>\n",
              "      <th>partyaffiliation</th>\n",
              "      <th>barelytruecounts</th>\n",
              "      <th>falsecounts</th>\n",
              "      <th>halftruecounts</th>\n",
              "      <th>mostlytrueocunts</th>\n",
              "      <th>pantsonfirecounts</th>\n",
              "      <th>context</th>\n",
              "      <th>twitter_handle</th>\n",
              "      <th>followers</th>\n",
              "      <th>tweets</th>\n",
              "      <th>verified</th>\n",
              "    </tr>\n",
              "  </thead>\n",
              "  <tbody>\n",
              "    <tr>\n",
              "      <th>0</th>\n",
              "      <td>11972.json</td>\n",
              "      <td>true</td>\n",
              "      <td>Building a wall on the U.S.-Mexico border will...</td>\n",
              "      <td>immigration</td>\n",
              "      <td>rick-perry</td>\n",
              "      <td>Governor</td>\n",
              "      <td>Texas</td>\n",
              "      <td>republican</td>\n",
              "      <td>30</td>\n",
              "      <td>30</td>\n",
              "      <td>42</td>\n",
              "      <td>23</td>\n",
              "      <td>18</td>\n",
              "      <td>Radio interview</td>\n",
              "      <td>GovernorPerry</td>\n",
              "      <td>354084.0</td>\n",
              "      <td>3577.0</td>\n",
              "      <td>1.0</td>\n",
              "    </tr>\n",
              "    <tr>\n",
              "      <th>1</th>\n",
              "      <td>11685.json</td>\n",
              "      <td>false</td>\n",
              "      <td>Wisconsin is on pace to double the number of l...</td>\n",
              "      <td>jobs</td>\n",
              "      <td>katrina-shankland</td>\n",
              "      <td>State representative</td>\n",
              "      <td>Wisconsin</td>\n",
              "      <td>democrat</td>\n",
              "      <td>2</td>\n",
              "      <td>1</td>\n",
              "      <td>0</td>\n",
              "      <td>0</td>\n",
              "      <td>0</td>\n",
              "      <td>a news conference</td>\n",
              "      <td>RepShankland</td>\n",
              "      <td>2652.0</td>\n",
              "      <td>2010.0</td>\n",
              "      <td>1.0</td>\n",
              "    </tr>\n",
              "  </tbody>\n",
              "</table>\n",
              "</div>"
            ],
            "text/plain": [
              "       jsonid  label  ...  tweets verified\n",
              "0  11972.json   true  ...  3577.0      1.0\n",
              "1  11685.json  false  ...  2010.0      1.0\n",
              "\n",
              "[2 rows x 18 columns]"
            ]
          },
          "metadata": {
            "tags": []
          },
          "execution_count": 36
        }
      ]
    },
    {
      "cell_type": "code",
      "metadata": {
        "id": "cyJQhTmgTTJt",
        "colab_type": "code",
        "colab": {
          "base_uri": "https://localhost:8080/",
          "height": 250
        },
        "outputId": "ddcbbefa-b528-4bd8-c225-d3fce163a7f4"
      },
      "source": [
        "# Source https://stackoverflow.com/questions/46789098/create-new-column-in-dataframe-with-match-values-from-other-dataframe\n",
        "\n",
        "\n",
        "# valid_news['twitter_handle'] = valid_news['speaker'].str.replace(\"-\", \" \").map(twitter.set_index('speaker')['twitter_handle'])\n",
        "# valid_news.head(2)\n",
        "\n",
        "valid_news['twitter_handle'] = valid_news['speaker'].str.replace(\"-\", \" \").map(twitter.set_index('speaker')['twitter_handle'])\n",
        "valid_news['followers'] = valid_news['speaker'].str.replace(\"-\", \" \").map(twitter.set_index('speaker')['followers'])\n",
        "valid_news['tweets'] = valid_news['speaker'].str.replace(\"-\", \" \").map(twitter.set_index('speaker')['tweets'])\n",
        "valid_news['verified'] = valid_news['speaker'].str.replace(\"-\", \" \").map(twitter.set_index('speaker')['verified'])\n",
        "\n",
        "valid_news.head(2)\n",
        "\n",
        "# saving data to csv\n",
        "# valid_news.to_csv('valid_news_twitter.csv')\n",
        "# !cp valid_news_twitter.csv drive/My\\ Drive/"
      ],
      "execution_count": 37,
      "outputs": [
        {
          "output_type": "execute_result",
          "data": {
            "text/html": [
              "<div>\n",
              "<style scoped>\n",
              "    .dataframe tbody tr th:only-of-type {\n",
              "        vertical-align: middle;\n",
              "    }\n",
              "\n",
              "    .dataframe tbody tr th {\n",
              "        vertical-align: top;\n",
              "    }\n",
              "\n",
              "    .dataframe thead th {\n",
              "        text-align: right;\n",
              "    }\n",
              "</style>\n",
              "<table border=\"1\" class=\"dataframe\">\n",
              "  <thead>\n",
              "    <tr style=\"text-align: right;\">\n",
              "      <th></th>\n",
              "      <th>jsonid</th>\n",
              "      <th>label</th>\n",
              "      <th>headline_text</th>\n",
              "      <th>subject</th>\n",
              "      <th>speaker</th>\n",
              "      <th>speakerjobtitle</th>\n",
              "      <th>stateinfo</th>\n",
              "      <th>partyaffiliation</th>\n",
              "      <th>barelytruecounts</th>\n",
              "      <th>falsecounts</th>\n",
              "      <th>halftruecounts</th>\n",
              "      <th>mostlytrueocunts</th>\n",
              "      <th>pantsonfirecounts</th>\n",
              "      <th>context</th>\n",
              "      <th>twitter_handle</th>\n",
              "      <th>followers</th>\n",
              "      <th>tweets</th>\n",
              "      <th>verified</th>\n",
              "    </tr>\n",
              "  </thead>\n",
              "  <tbody>\n",
              "    <tr>\n",
              "      <th>0</th>\n",
              "      <td>12134.json</td>\n",
              "      <td>barely-true</td>\n",
              "      <td>We have less Americans working now than in the...</td>\n",
              "      <td>economy,jobs</td>\n",
              "      <td>vicky-hartzler</td>\n",
              "      <td>U.S. Representative</td>\n",
              "      <td>Missouri</td>\n",
              "      <td>republican</td>\n",
              "      <td>1</td>\n",
              "      <td>0</td>\n",
              "      <td>1</td>\n",
              "      <td>0</td>\n",
              "      <td>0</td>\n",
              "      <td>an interview with ABC17 News</td>\n",
              "      <td>NaN</td>\n",
              "      <td>NaN</td>\n",
              "      <td>NaN</td>\n",
              "      <td>NaN</td>\n",
              "    </tr>\n",
              "    <tr>\n",
              "      <th>1</th>\n",
              "      <td>238.json</td>\n",
              "      <td>pants-fire</td>\n",
              "      <td>When Obama was sworn into office, he DID NOT u...</td>\n",
              "      <td>obama-birth-certificate,religion</td>\n",
              "      <td>chain-email</td>\n",
              "      <td>NaN</td>\n",
              "      <td>NaN</td>\n",
              "      <td>none</td>\n",
              "      <td>11</td>\n",
              "      <td>43</td>\n",
              "      <td>8</td>\n",
              "      <td>5</td>\n",
              "      <td>105</td>\n",
              "      <td>NaN</td>\n",
              "      <td>NaN</td>\n",
              "      <td>NaN</td>\n",
              "      <td>NaN</td>\n",
              "      <td>NaN</td>\n",
              "    </tr>\n",
              "  </tbody>\n",
              "</table>\n",
              "</div>"
            ],
            "text/plain": [
              "       jsonid        label  ... tweets verified\n",
              "0  12134.json  barely-true  ...    NaN      NaN\n",
              "1    238.json   pants-fire  ...    NaN      NaN\n",
              "\n",
              "[2 rows x 18 columns]"
            ]
          },
          "metadata": {
            "tags": []
          },
          "execution_count": 37
        }
      ]
    }
  ]
}